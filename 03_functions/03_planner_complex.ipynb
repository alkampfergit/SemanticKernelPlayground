{
 "cells": [
  {
   "cell_type": "code",
   "execution_count": 1,
   "metadata": {},
   "outputs": [
    {
     "name": "stdout",
     "output_type": "stream",
     "text": [
      "https://openaiswedenalk.openai.azure.com/\n"
     ]
    }
   ],
   "source": [
    "import semantic_kernel as sk\n",
    "import logging\n",
    "import os\n",
    "from dotenv import load_dotenv, find_dotenv\n",
    "from helpers.LoggingHelper import LoggingHelper\n",
    "\n",
    "_ = load_dotenv(find_dotenv()) # read local .env file\n",
    "print(os.getenv(\"OPENAI_API_BASE\"))\n",
    "\n",
    "lh = LoggingHelper()\n",
    "logger = lh.get_logger(\"semantic-kernel\", logging.WARN)\n"
   ]
  },
  {
   "cell_type": "code",
   "execution_count": 2,
   "metadata": {},
   "outputs": [],
   "source": [
    "from pprint import pprint\n",
    "import semantic_kernel.connectors.ai.open_ai as sk_oai\n",
    "\n",
    "kernel = sk.Kernel(log=logger)\n",
    "kernel.add_chat_service(\n",
    "    \"chat_completion\",\n",
    "    sk_oai.AzureChatCompletion(\n",
    "        \"GPT35\",\n",
    "        endpoint = os.getenv(\"OPENAI_API_BASE\"),\n",
    "        api_key = os.getenv(\"OPENAI_API_KEY\")\n",
    "    ),\n",
    ")\n",
    "\n",
    "# Register a volatile memory store\n",
    "# pprint(dir(kernel))\n",
    "kernel.add_text_embedding_generation_service(\n",
    "    \"ada\", \n",
    "    sk_oai.OpenAITextEmbedding(\"text-embedding-ada-002\", \"api_key\", \"org_id\"))\n",
    "kernel.register_memory_store(memory_store=sk.memory.VolatileMemoryStore())"
   ]
  },
  {
   "cell_type": "code",
   "execution_count": 3,
   "metadata": {},
   "outputs": [],
   "source": [
    "# Now we need to import the plugin\n",
    "from plugins.JarvisPlugin.Tasks import Tasks\n",
    "\n",
    "# Now you can import the plugin importing skill directly from the function you declared\n",
    "# in the plugin directory. The import_skill does not need the path, it only need an\n",
    "# instance of the skill and the name of the skill\n",
    "tasks_plugin = kernel.import_skill(Tasks(), skill_name=\"JarvisPlugin\")\n"
   ]
  },
  {
   "cell_type": "code",
   "execution_count": 4,
   "metadata": {},
   "outputs": [
    {
     "name": "stdout",
     "output_type": "stream",
     "text": [
      "<semantic_kernel.orchestration.sk_function.SKFunction object at 0x000002B87B6CA980>\n",
      "<semantic_kernel.orchestration.sk_function.SKFunction object at 0x000002B87B73BBE0>\n"
     ]
    }
   ],
   "source": [
    "from pprint import pprint\n",
    "# want to print all the keys of extractaudio_plugin that is a dictionary\n",
    "\n",
    "pprint (tasks_plugin[\"ChangeTaskTitle\"])\n",
    "pprint (tasks_plugin[\"LoadTask\"])"
   ]
  },
  {
   "cell_type": "code",
   "execution_count": 5,
   "metadata": {},
   "outputs": [],
   "source": [
    "# We start using a planner, that allows us not to have to manually call functions\n",
    "from semantic_kernel.planning.basic_planner import BasicPlanner\n",
    "planner = BasicPlanner()"
   ]
  },
  {
   "cell_type": "code",
   "execution_count": null,
   "metadata": {},
   "outputs": [],
   "source": [
    "# # now we can use the planner\n",
    "# Task is too complex for a simple epaln\n",
    "# question = \"Search all task containing 'verdolazzy' and if the due date is in year 2021 add the word 'BOMB' as prefix of the title\"\n",
    "# plan = await planner.create_plan_async(question, kernel)\n",
    "\n",
    "# result = await planner.execute_plan_async(plan, kernel)\n",
    "\n",
    "# print(f\"Plan results: {result}\")\n",
    "\n",
    "# print(\"------------------\")\n",
    "# print(plan.generated_plan)"
   ]
  },
  {
   "cell_type": "code",
   "execution_count": null,
   "metadata": {},
   "outputs": [],
   "source": [
    "# now we can create a stepwise planner\n",
    "from semantic_kernel.planning.stepwise_planner import StepwisePlanner\n",
    "sw_planner = StepwisePlanner(kernel)"
   ]
  },
  {
   "cell_type": "code",
   "execution_count": null,
   "metadata": {},
   "outputs": [],
   "source": [
    "from pprint import pprint\n",
    "\n",
    "question = \"Search all task containing verdolazzy and if the due date is in year 2021 add the word 'BOMB' as prefix of the title\"\n",
    "plan = sw_planner.create_plan(question)\n",
    "result = await plan.invoke_async()\n",
    "\n",
    "print(f\"Plan results: {result}\")\n",
    "pprint(result)\n"
   ]
  }
 ],
 "metadata": {
  "kernelspec": {
   "display_name": "skernel",
   "language": "python",
   "name": "python3"
  },
  "language_info": {
   "codemirror_mode": {
    "name": "ipython",
    "version": 3
   },
   "file_extension": ".py",
   "mimetype": "text/x-python",
   "name": "python",
   "nbconvert_exporter": "python",
   "pygments_lexer": "ipython3",
   "version": "3.10.9"
  }
 },
 "nbformat": 4,
 "nbformat_minor": 2
}
