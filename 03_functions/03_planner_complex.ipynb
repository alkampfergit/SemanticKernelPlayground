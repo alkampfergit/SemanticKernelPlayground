{
 "cells": [
  {
   "cell_type": "code",
   "execution_count": 1,
   "metadata": {},
   "outputs": [
    {
     "name": "stdout",
     "output_type": "stream",
     "text": [
      "https://alkopenai2.openai.azure.com/\n"
     ]
    }
   ],
   "source": [
    "import semantic_kernel as sk\n",
    "import logging\n",
    "import os\n",
    "from dotenv import load_dotenv, find_dotenv\n",
    "from helpers.LoggingHelper import LoggingHelper\n",
    "\n",
    "_ = load_dotenv(find_dotenv()) # read local .env file\n",
    "print(os.getenv(\"OPENAI_API_BASE\"))\n",
    "\n",
    "lh = LoggingHelper()\n",
    "logger = lh.get_logger(\"semantic-kernel\", logging.WARN)\n"
   ]
  },
  {
   "cell_type": "code",
   "execution_count": 2,
   "metadata": {},
   "outputs": [],
   "source": [
    "from pprint import pprint\n",
    "import semantic_kernel.connectors.ai.open_ai as sk_oai\n",
    "\n",
    "kernel = sk.Kernel(log=logger)\n",
    "kernel.add_chat_service(\n",
    "    \"chat_completion\",\n",
    "    sk_oai.AzureChatCompletion(\n",
    "        \"GPT35\",\n",
    "        os.getenv(\"OPENAI_API_BASE\"),\n",
    "        os.getenv(\"OPENAI_API_KEY\")\n",
    "    ),\n",
    ")\n",
    "\n",
    "# Register a volatile memory store\n",
    "# pprint(dir(kernel))\n",
    "kernel.add_text_embedding_generation_service(\n",
    "    \"ada\", \n",
    "    sk_oai.OpenAITextEmbedding(\"text-embedding-ada-002\", \"api_key\", \"org_id\"))\n",
    "kernel.register_memory_store(memory_store=sk.memory.VolatileMemoryStore())"
   ]
  },
  {
   "cell_type": "code",
   "execution_count": 3,
   "metadata": {},
   "outputs": [],
   "source": [
    "# Now we need to import the plugin\n",
    "from plugins.JarvisPlugin.Tasks import Tasks\n",
    "\n",
    "# Now you can import the plugin importing skill directly from the function you declared\n",
    "# in the plugin directory. The import_skill does not need the path, it only need an\n",
    "# instance of the skill and the name of the skill\n",
    "tasks_plugin = kernel.import_skill(Tasks(), skill_name=\"JarvisPlugin\")\n"
   ]
  },
  {
   "cell_type": "code",
   "execution_count": 4,
   "metadata": {},
   "outputs": [
    {
     "name": "stdout",
     "output_type": "stream",
     "text": [
      "<semantic_kernel.orchestration.sk_function.SKFunction object at 0x12084dc90>\n",
      "<semantic_kernel.orchestration.sk_function.SKFunction object at 0x123271690>\n"
     ]
    }
   ],
   "source": [
    "from pprint import pprint\n",
    "# want to print all the keys of extractaudio_plugin that is a dictionary\n",
    "\n",
    "pprint (tasks_plugin[\"ChangeTaskTitle\"])\n",
    "pprint (tasks_plugin[\"LoadTask\"])"
   ]
  },
  {
   "cell_type": "code",
   "execution_count": 5,
   "metadata": {},
   "outputs": [],
   "source": [
    "# We start using a planner, that allows us not to have to manually call functions\n",
    "from semantic_kernel.planning.basic_planner import BasicPlanner\n",
    "planner = BasicPlanner()"
   ]
  },
  {
   "cell_type": "code",
   "execution_count": 6,
   "metadata": {},
   "outputs": [],
   "source": [
    "# # now we can use the planner\n",
    "# Task is too complex for a simple epaln\n",
    "# question = \"Search all task containing 'verdolazzy' and if the due date is in year 2021 add the word 'BOMB' as prefix of the title\"\n",
    "# plan = await planner.create_plan_async(question, kernel)\n",
    "\n",
    "# result = await planner.execute_plan_async(plan, kernel)\n",
    "\n",
    "# print(f\"Plan results: {result}\")\n",
    "\n",
    "# print(\"------------------\")\n",
    "# print(plan.generated_plan)"
   ]
  },
  {
   "cell_type": "code",
   "execution_count": 7,
   "metadata": {},
   "outputs": [],
   "source": [
    "# now we can create a stepwise planner\n",
    "from semantic_kernel.planning.stepwise_planner import StepwisePlanner\n",
    "sw_planner = StepwisePlanner(kernel)"
   ]
  },
  {
   "cell_type": "code",
   "execution_count": 9,
   "metadata": {},
   "outputs": [
    {
     "name": "stderr",
     "output_type": "stream",
     "text": [
      "2023-11-30 19:50:17,416 - semantic-kernel - WARNING - Variable `$agent_scratch_pad` not found\n"
     ]
    },
    {
     "name": "stdout",
     "output_type": "stream",
     "text": [
      "Searching for task: \n"
     ]
    },
    {
     "ename": "CancelledError",
     "evalue": "",
     "output_type": "error",
     "traceback": [
      "\u001b[0;31m---------------------------------------------------------------------------\u001b[0m",
      "\u001b[0;31mCancelledError\u001b[0m                            Traceback (most recent call last)",
      "\u001b[1;32m/Users/gianmariaricci/develop/github/SemanticKernelPlayground/03_functions/03_planner_complex.ipynb Cell 8\u001b[0m line \u001b[0;36m5\n\u001b[1;32m      <a href='vscode-notebook-cell:/Users/gianmariaricci/develop/github/SemanticKernelPlayground/03_functions/03_planner_complex.ipynb#X22sZmlsZQ%3D%3D?line=2'>3</a>\u001b[0m question \u001b[39m=\u001b[39m \u001b[39m\"\u001b[39m\u001b[39mSearch all task containing verdolazzy and if the due date is in year 2021 add the word \u001b[39m\u001b[39m'\u001b[39m\u001b[39mBOMB\u001b[39m\u001b[39m'\u001b[39m\u001b[39m as prefix of the title\u001b[39m\u001b[39m\"\u001b[39m\n\u001b[1;32m      <a href='vscode-notebook-cell:/Users/gianmariaricci/develop/github/SemanticKernelPlayground/03_functions/03_planner_complex.ipynb#X22sZmlsZQ%3D%3D?line=3'>4</a>\u001b[0m plan \u001b[39m=\u001b[39m sw_planner\u001b[39m.\u001b[39mcreate_plan(question)\n\u001b[0;32m----> <a href='vscode-notebook-cell:/Users/gianmariaricci/develop/github/SemanticKernelPlayground/03_functions/03_planner_complex.ipynb#X22sZmlsZQ%3D%3D?line=4'>5</a>\u001b[0m result \u001b[39m=\u001b[39m \u001b[39mawait\u001b[39;00m plan\u001b[39m.\u001b[39minvoke_async()\n\u001b[1;32m      <a href='vscode-notebook-cell:/Users/gianmariaricci/develop/github/SemanticKernelPlayground/03_functions/03_planner_complex.ipynb#X22sZmlsZQ%3D%3D?line=6'>7</a>\u001b[0m \u001b[39mprint\u001b[39m(\u001b[39mf\u001b[39m\u001b[39m\"\u001b[39m\u001b[39mPlan results: \u001b[39m\u001b[39m{\u001b[39;00mresult\u001b[39m}\u001b[39;00m\u001b[39m\"\u001b[39m)\n\u001b[1;32m      <a href='vscode-notebook-cell:/Users/gianmariaricci/develop/github/SemanticKernelPlayground/03_functions/03_planner_complex.ipynb#X22sZmlsZQ%3D%3D?line=7'>8</a>\u001b[0m pprint(result)\n",
      "File \u001b[0;32m~/develop/github/SemanticKernelPlayground/skernel/lib/python3.11/site-packages/semantic_kernel/planning/plan.py:167\u001b[0m, in \u001b[0;36mPlan.invoke_async\u001b[0;34m(self, input, context, settings, memory, logger)\u001b[0m\n\u001b[1;32m    165\u001b[0m         function_context \u001b[39m=\u001b[39m context\n\u001b[1;32m    166\u001b[0m         \u001b[39mself\u001b[39m\u001b[39m.\u001b[39madd_variables_to_context(\u001b[39mself\u001b[39m\u001b[39m.\u001b[39m_state, function_context)\n\u001b[0;32m--> 167\u001b[0m         \u001b[39mawait\u001b[39;00m \u001b[39mself\u001b[39m\u001b[39m.\u001b[39minvoke_next_step(function_context)\n\u001b[1;32m    168\u001b[0m         \u001b[39mself\u001b[39m\u001b[39m.\u001b[39mupdate_context_with_outputs(context)\n\u001b[1;32m    170\u001b[0m \u001b[39mreturn\u001b[39;00m context\n",
      "File \u001b[0;32m~/develop/github/SemanticKernelPlayground/skernel/lib/python3.11/site-packages/semantic_kernel/planning/plan.py:310\u001b[0m, in \u001b[0;36mPlan.invoke_next_step\u001b[0;34m(self, context)\u001b[0m\n\u001b[1;32m    303\u001b[0m \u001b[39m# Invoke the step\u001b[39;00m\n\u001b[1;32m    304\u001b[0m func_context \u001b[39m=\u001b[39m SKContext(\n\u001b[1;32m    305\u001b[0m     variables\u001b[39m=\u001b[39mvariables,\n\u001b[1;32m    306\u001b[0m     memory\u001b[39m=\u001b[39mcontext\u001b[39m.\u001b[39mmemory,\n\u001b[1;32m    307\u001b[0m     skill_collection\u001b[39m=\u001b[39mcontext\u001b[39m.\u001b[39mskills,\n\u001b[1;32m    308\u001b[0m     logger\u001b[39m=\u001b[39mcontext\u001b[39m.\u001b[39mlog,\n\u001b[1;32m    309\u001b[0m )\n\u001b[0;32m--> 310\u001b[0m result \u001b[39m=\u001b[39m \u001b[39mawait\u001b[39;00m step\u001b[39m.\u001b[39minvoke_async(context\u001b[39m=\u001b[39mfunc_context)\n\u001b[1;32m    311\u001b[0m result_value \u001b[39m=\u001b[39m result\u001b[39m.\u001b[39mresult\n\u001b[1;32m    313\u001b[0m \u001b[39mif\u001b[39;00m result\u001b[39m.\u001b[39merror_occurred:\n",
      "File \u001b[0;32m~/develop/github/SemanticKernelPlayground/skernel/lib/python3.11/site-packages/semantic_kernel/planning/plan.py:151\u001b[0m, in \u001b[0;36mPlan.invoke_async\u001b[0;34m(self, input, context, settings, memory, logger)\u001b[0m\n\u001b[1;32m    143\u001b[0m     context \u001b[39m=\u001b[39m SKContext(\n\u001b[1;32m    144\u001b[0m         variables\u001b[39m=\u001b[39m\u001b[39mself\u001b[39m\u001b[39m.\u001b[39m_state,\n\u001b[1;32m    145\u001b[0m         skill_collection\u001b[39m=\u001b[39mReadOnlySkillCollection(),\n\u001b[1;32m    146\u001b[0m         memory\u001b[39m=\u001b[39mmemory \u001b[39mor\u001b[39;00m NullMemory(),\n\u001b[1;32m    147\u001b[0m         logger\u001b[39m=\u001b[39mlogger \u001b[39mif\u001b[39;00m logger \u001b[39mis\u001b[39;00m \u001b[39mnot\u001b[39;00m \u001b[39mNone\u001b[39;00m \u001b[39melse\u001b[39;00m NullLogger(),\n\u001b[1;32m    148\u001b[0m     )\n\u001b[1;32m    150\u001b[0m \u001b[39mif\u001b[39;00m \u001b[39mself\u001b[39m\u001b[39m.\u001b[39m_function \u001b[39mis\u001b[39;00m \u001b[39mnot\u001b[39;00m \u001b[39mNone\u001b[39;00m:\n\u001b[0;32m--> 151\u001b[0m     result \u001b[39m=\u001b[39m \u001b[39mawait\u001b[39;00m \u001b[39mself\u001b[39m\u001b[39m.\u001b[39m_function\u001b[39m.\u001b[39minvoke_async(\n\u001b[1;32m    152\u001b[0m         context\u001b[39m=\u001b[39mcontext, settings\u001b[39m=\u001b[39msettings\n\u001b[1;32m    153\u001b[0m     )\n\u001b[1;32m    154\u001b[0m     \u001b[39mif\u001b[39;00m result\u001b[39m.\u001b[39merror_occurred:\n\u001b[1;32m    155\u001b[0m         result\u001b[39m.\u001b[39mlog\u001b[39m.\u001b[39merror(\n\u001b[1;32m    156\u001b[0m             \u001b[39m\"\u001b[39m\u001b[39mSomething went wrong in plan step \u001b[39m\u001b[39m{0}\u001b[39;00m\u001b[39m.\u001b[39m\u001b[39m{1}\u001b[39;00m\u001b[39m:\u001b[39m\u001b[39m'\u001b[39m\u001b[39m{2}\u001b[39;00m\u001b[39m'\u001b[39m\u001b[39m\"\u001b[39m\u001b[39m.\u001b[39mformat(\n\u001b[1;32m    157\u001b[0m                 \u001b[39mself\u001b[39m\u001b[39m.\u001b[39m_skill_name, \u001b[39mself\u001b[39m\u001b[39m.\u001b[39m_name, result\u001b[39m.\u001b[39mlast_error_description\n\u001b[1;32m    158\u001b[0m             )\n\u001b[1;32m    159\u001b[0m         )\n",
      "File \u001b[0;32m~/develop/github/SemanticKernelPlayground/skernel/lib/python3.11/site-packages/semantic_kernel/orchestration/sk_function.py:440\u001b[0m, in \u001b[0;36mSKFunction.invoke_async\u001b[0;34m(self, input, variables, context, memory, settings, log, **kwargs)\u001b[0m\n\u001b[1;32m    438\u001b[0m         \u001b[39mreturn\u001b[39;00m \u001b[39mawait\u001b[39;00m \u001b[39mself\u001b[39m\u001b[39m.\u001b[39m_invoke_semantic_async(context, settings, \u001b[39m*\u001b[39m\u001b[39m*\u001b[39mkwargs)\n\u001b[1;32m    439\u001b[0m     \u001b[39melse\u001b[39;00m:\n\u001b[0;32m--> 440\u001b[0m         \u001b[39mreturn\u001b[39;00m \u001b[39mawait\u001b[39;00m \u001b[39mself\u001b[39m\u001b[39m.\u001b[39m_invoke_native_async(context, \u001b[39m*\u001b[39m\u001b[39m*\u001b[39mkwargs)\n\u001b[1;32m    441\u001b[0m \u001b[39mexcept\u001b[39;00m \u001b[39mException\u001b[39;00m \u001b[39mas\u001b[39;00m e:\n\u001b[1;32m    442\u001b[0m     context\u001b[39m.\u001b[39mfail(\u001b[39mstr\u001b[39m(e), e)\n",
      "File \u001b[0;32m~/develop/github/SemanticKernelPlayground/skernel/lib/python3.11/site-packages/semantic_kernel/orchestration/sk_function.py:479\u001b[0m, in \u001b[0;36mSKFunction._invoke_native_async\u001b[0;34m(self, context)\u001b[0m\n\u001b[1;32m    477\u001b[0m \u001b[39mif\u001b[39;00m \u001b[39mnot\u001b[39;00m \u001b[39mhasattr\u001b[39m(delegate, \u001b[39m\"\u001b[39m\u001b[39m__call__\u001b[39m\u001b[39m\"\u001b[39m):\n\u001b[1;32m    478\u001b[0m     delegate \u001b[39m=\u001b[39m delegate\u001b[39m.\u001b[39m\u001b[39m__func__\u001b[39m\n\u001b[0;32m--> 479\u001b[0m new_context \u001b[39m=\u001b[39m \u001b[39mawait\u001b[39;00m delegate(\u001b[39mself\u001b[39m\u001b[39m.\u001b[39m_function, context)\n\u001b[1;32m    481\u001b[0m \u001b[39mreturn\u001b[39;00m new_context\n",
      "File \u001b[0;32m~/develop/github/SemanticKernelPlayground/skernel/lib/python3.11/site-packages/semantic_kernel/orchestration/delegate_handlers.py:61\u001b[0m, in \u001b[0;36mDelegateHandlers.handle_context_switch_in_sk_context_out_task_sk_context\u001b[0;34m(function, context)\u001b[0m\n\u001b[1;32m     54\u001b[0m \u001b[39m@staticmethod\u001b[39m\n\u001b[1;32m     55\u001b[0m \u001b[39m@_handles\u001b[39m(DelegateTypes\u001b[39m.\u001b[39mContextSwitchInSKContextOutTaskSKContext)\n\u001b[1;32m     56\u001b[0m \u001b[39masync\u001b[39;00m \u001b[39mdef\u001b[39;00m \u001b[39mhandle_context_switch_in_sk_context_out_task_sk_context\u001b[39m(\n\u001b[0;32m   (...)\u001b[0m\n\u001b[1;32m     59\u001b[0m     \u001b[39m# Note: Context Switching: allows the function to replace with a\u001b[39;00m\n\u001b[1;32m     60\u001b[0m     \u001b[39m# new context, e.g. to branch execution path\u001b[39;00m\n\u001b[0;32m---> 61\u001b[0m     context \u001b[39m=\u001b[39m \u001b[39mawait\u001b[39;00m function(context)\n\u001b[1;32m     62\u001b[0m     \u001b[39mreturn\u001b[39;00m context\n",
      "File \u001b[0;32m~/develop/github/SemanticKernelPlayground/skernel/lib/python3.11/site-packages/semantic_kernel/planning/stepwise_planner/stepwise_planner.py:145\u001b[0m, in \u001b[0;36mStepwisePlanner.execute_plan_async\u001b[0;34m(self, context)\u001b[0m\n\u001b[1;32m    141\u001b[0m scratch_pad \u001b[39m=\u001b[39m \u001b[39mself\u001b[39m\u001b[39m.\u001b[39mcreate_scratch_pad(question, steps_taken)\n\u001b[1;32m    143\u001b[0m context\u001b[39m.\u001b[39mvariables\u001b[39m.\u001b[39mset(\u001b[39m\"\u001b[39m\u001b[39magent_scratch_pad\u001b[39m\u001b[39m\"\u001b[39m, scratch_pad)\n\u001b[0;32m--> 145\u001b[0m llm_response \u001b[39m=\u001b[39m \u001b[39mawait\u001b[39;00m \u001b[39mself\u001b[39m\u001b[39m.\u001b[39m_system_step_function\u001b[39m.\u001b[39minvoke_async(\n\u001b[1;32m    146\u001b[0m     context\u001b[39m=\u001b[39mcontext\n\u001b[1;32m    147\u001b[0m )\n\u001b[1;32m    149\u001b[0m \u001b[39mif\u001b[39;00m llm_response\u001b[39m.\u001b[39merror_occurred:\n\u001b[1;32m    150\u001b[0m     \u001b[39mraise\u001b[39;00m PlanningException(\n\u001b[1;32m    151\u001b[0m         PlanningException\u001b[39m.\u001b[39mErrorCodes\u001b[39m.\u001b[39mUnknownError,\n\u001b[1;32m    152\u001b[0m         \u001b[39mf\u001b[39m\u001b[39m\"\u001b[39m\u001b[39mError occurred while executing stepwise plan: \u001b[39m\u001b[39m{\u001b[39;00mllm_response\u001b[39m.\u001b[39mlast_exception\u001b[39m}\u001b[39;00m\u001b[39m\"\u001b[39m,\n\u001b[1;32m    153\u001b[0m         llm_response\u001b[39m.\u001b[39mlast_exception,\n\u001b[1;32m    154\u001b[0m     )\n",
      "File \u001b[0;32m~/develop/github/SemanticKernelPlayground/skernel/lib/python3.11/site-packages/semantic_kernel/orchestration/sk_function.py:438\u001b[0m, in \u001b[0;36mSKFunction.invoke_async\u001b[0;34m(self, input, variables, context, memory, settings, log, **kwargs)\u001b[0m\n\u001b[1;32m    436\u001b[0m \u001b[39mtry\u001b[39;00m:\n\u001b[1;32m    437\u001b[0m     \u001b[39mif\u001b[39;00m \u001b[39mself\u001b[39m\u001b[39m.\u001b[39mis_semantic:\n\u001b[0;32m--> 438\u001b[0m         \u001b[39mreturn\u001b[39;00m \u001b[39mawait\u001b[39;00m \u001b[39mself\u001b[39m\u001b[39m.\u001b[39m_invoke_semantic_async(context, settings, \u001b[39m*\u001b[39m\u001b[39m*\u001b[39mkwargs)\n\u001b[1;32m    439\u001b[0m     \u001b[39melse\u001b[39;00m:\n\u001b[1;32m    440\u001b[0m         \u001b[39mreturn\u001b[39;00m \u001b[39mawait\u001b[39;00m \u001b[39mself\u001b[39m\u001b[39m.\u001b[39m_invoke_native_async(context, \u001b[39m*\u001b[39m\u001b[39m*\u001b[39mkwargs)\n",
      "File \u001b[0;32m~/develop/github/SemanticKernelPlayground/skernel/lib/python3.11/site-packages/semantic_kernel/orchestration/sk_function.py:464\u001b[0m, in \u001b[0;36mSKFunction._invoke_semantic_async\u001b[0;34m(self, context, settings, **kwargs)\u001b[0m\n\u001b[1;32m    456\u001b[0m         \u001b[39mraise\u001b[39;00m KernelException(\n\u001b[1;32m    457\u001b[0m             KernelException\u001b[39m.\u001b[39mErrorCodes\u001b[39m.\u001b[39mUnknownError,\n\u001b[1;32m    458\u001b[0m             \u001b[39m\"\u001b[39m\u001b[39mSemantic functions must have either an AI service or Chat service\u001b[39m\u001b[39m\"\u001b[39m,\n\u001b[1;32m    459\u001b[0m         )\n\u001b[1;32m    461\u001b[0m service \u001b[39m=\u001b[39m (\n\u001b[1;32m    462\u001b[0m     \u001b[39mself\u001b[39m\u001b[39m.\u001b[39m_ai_service \u001b[39mif\u001b[39;00m \u001b[39mself\u001b[39m\u001b[39m.\u001b[39m_ai_service \u001b[39mis\u001b[39;00m \u001b[39mnot\u001b[39;00m \u001b[39mNone\u001b[39;00m \u001b[39melse\u001b[39;00m \u001b[39mself\u001b[39m\u001b[39m.\u001b[39m_chat_service\n\u001b[1;32m    463\u001b[0m )\n\u001b[0;32m--> 464\u001b[0m new_context \u001b[39m=\u001b[39m \u001b[39mawait\u001b[39;00m \u001b[39mself\u001b[39m\u001b[39m.\u001b[39m_function(\n\u001b[1;32m    465\u001b[0m     service, settings, context, functions\u001b[39m=\u001b[39mkwargs\u001b[39m.\u001b[39mget(\u001b[39m\"\u001b[39m\u001b[39mfunctions\u001b[39m\u001b[39m\"\u001b[39m, \u001b[39mNone\u001b[39;00m)\n\u001b[1;32m    466\u001b[0m )\n\u001b[1;32m    467\u001b[0m context\u001b[39m.\u001b[39mvariables\u001b[39m.\u001b[39mmerge_or_overwrite(new_context\u001b[39m.\u001b[39mvariables)\n\u001b[1;32m    468\u001b[0m \u001b[39mreturn\u001b[39;00m context\n",
      "File \u001b[0;32m~/develop/github/SemanticKernelPlayground/skernel/lib/python3.11/site-packages/semantic_kernel/orchestration/sk_function.py:132\u001b[0m, in \u001b[0;36mSKFunction.from_semantic_config.<locals>._local_func\u001b[0;34m(client, request_settings, context, **kwargs)\u001b[0m\n\u001b[1;32m    130\u001b[0m \u001b[39mif\u001b[39;00m \u001b[39mnot\u001b[39;00m function_config\u001b[39m.\u001b[39mhas_chat_prompt:\n\u001b[1;32m    131\u001b[0m     prompt \u001b[39m=\u001b[39m \u001b[39mawait\u001b[39;00m function_config\u001b[39m.\u001b[39mprompt_template\u001b[39m.\u001b[39mrender_async(context)\n\u001b[0;32m--> 132\u001b[0m     completion \u001b[39m=\u001b[39m \u001b[39mawait\u001b[39;00m client\u001b[39m.\u001b[39mcomplete_async(prompt, request_settings)\n\u001b[1;32m    133\u001b[0m     context\u001b[39m.\u001b[39mvariables\u001b[39m.\u001b[39mupdate(completion)\n\u001b[1;32m    134\u001b[0m     \u001b[39mreturn\u001b[39;00m context\n",
      "File \u001b[0;32m~/develop/github/SemanticKernelPlayground/skernel/lib/python3.11/site-packages/semantic_kernel/connectors/ai/open_ai/services/open_ai_chat_completion.py:148\u001b[0m, in \u001b[0;36mOpenAIChatCompletion.complete_async\u001b[0;34m(self, prompt, request_settings, logger)\u001b[0m\n\u001b[1;32m    146\u001b[0m prompt_to_message \u001b[39m=\u001b[39m [{\u001b[39m\"\u001b[39m\u001b[39mrole\u001b[39m\u001b[39m\"\u001b[39m: \u001b[39m\"\u001b[39m\u001b[39muser\u001b[39m\u001b[39m\"\u001b[39m, \u001b[39m\"\u001b[39m\u001b[39mcontent\u001b[39m\u001b[39m\"\u001b[39m: prompt}]\n\u001b[1;32m    147\u001b[0m chat_settings \u001b[39m=\u001b[39m ChatRequestSettings\u001b[39m.\u001b[39mfrom_completion_config(request_settings)\n\u001b[0;32m--> 148\u001b[0m response \u001b[39m=\u001b[39m \u001b[39mawait\u001b[39;00m \u001b[39mself\u001b[39m\u001b[39m.\u001b[39m_send_chat_request(\n\u001b[1;32m    149\u001b[0m     prompt_to_message, chat_settings, \u001b[39mFalse\u001b[39;00m\n\u001b[1;32m    150\u001b[0m )\n\u001b[1;32m    152\u001b[0m \u001b[39mif\u001b[39;00m \u001b[39mlen\u001b[39m(response\u001b[39m.\u001b[39mchoices) \u001b[39m==\u001b[39m \u001b[39m1\u001b[39m:\n\u001b[1;32m    153\u001b[0m     \u001b[39mreturn\u001b[39;00m response\u001b[39m.\u001b[39mchoices[\u001b[39m0\u001b[39m]\u001b[39m.\u001b[39mmessage\u001b[39m.\u001b[39mcontent\n",
      "File \u001b[0;32m~/develop/github/SemanticKernelPlayground/skernel/lib/python3.11/site-packages/semantic_kernel/connectors/ai/open_ai/services/open_ai_chat_completion.py:272\u001b[0m, in \u001b[0;36mOpenAIChatCompletion._send_chat_request\u001b[0;34m(self, messages, request_settings, stream, functions)\u001b[0m\n\u001b[1;32m    269\u001b[0m         model_args[\u001b[39m\"\u001b[39m\u001b[39mfunctions\u001b[39m\u001b[39m\"\u001b[39m] \u001b[39m=\u001b[39m functions\n\u001b[1;32m    271\u001b[0m \u001b[39mtry\u001b[39;00m:\n\u001b[0;32m--> 272\u001b[0m     response: Any \u001b[39m=\u001b[39m \u001b[39mawait\u001b[39;00m openai\u001b[39m.\u001b[39mChatCompletion\u001b[39m.\u001b[39macreate(\u001b[39m*\u001b[39m\u001b[39m*\u001b[39mmodel_args)\n\u001b[1;32m    273\u001b[0m \u001b[39mexcept\u001b[39;00m \u001b[39mException\u001b[39;00m \u001b[39mas\u001b[39;00m ex:\n\u001b[1;32m    274\u001b[0m     \u001b[39mraise\u001b[39;00m AIException(\n\u001b[1;32m    275\u001b[0m         AIException\u001b[39m.\u001b[39mErrorCodes\u001b[39m.\u001b[39mServiceError,\n\u001b[1;32m    276\u001b[0m         \u001b[39mf\u001b[39m\u001b[39m\"\u001b[39m\u001b[39m{\u001b[39;00m\u001b[39mself\u001b[39m\u001b[39m.\u001b[39m\u001b[39m__class__\u001b[39m\u001b[39m.\u001b[39m\u001b[39m__name__\u001b[39m\u001b[39m}\u001b[39;00m\u001b[39m failed to complete the chat\u001b[39m\u001b[39m\"\u001b[39m,\n\u001b[1;32m    277\u001b[0m         ex,\n\u001b[1;32m    278\u001b[0m     ) \u001b[39mfrom\u001b[39;00m \u001b[39mex\u001b[39;00m\n",
      "File \u001b[0;32m~/develop/github/SemanticKernelPlayground/skernel/lib/python3.11/site-packages/openai/api_resources/chat_completion.py:45\u001b[0m, in \u001b[0;36mChatCompletion.acreate\u001b[0;34m(cls, *args, **kwargs)\u001b[0m\n\u001b[1;32m     43\u001b[0m \u001b[39mwhile\u001b[39;00m \u001b[39mTrue\u001b[39;00m:\n\u001b[1;32m     44\u001b[0m     \u001b[39mtry\u001b[39;00m:\n\u001b[0;32m---> 45\u001b[0m         \u001b[39mreturn\u001b[39;00m \u001b[39mawait\u001b[39;00m \u001b[39msuper\u001b[39m()\u001b[39m.\u001b[39macreate(\u001b[39m*\u001b[39margs, \u001b[39m*\u001b[39m\u001b[39m*\u001b[39mkwargs)\n\u001b[1;32m     46\u001b[0m     \u001b[39mexcept\u001b[39;00m TryAgain \u001b[39mas\u001b[39;00m e:\n\u001b[1;32m     47\u001b[0m         \u001b[39mif\u001b[39;00m timeout \u001b[39mis\u001b[39;00m \u001b[39mnot\u001b[39;00m \u001b[39mNone\u001b[39;00m \u001b[39mand\u001b[39;00m time\u001b[39m.\u001b[39mtime() \u001b[39m>\u001b[39m start \u001b[39m+\u001b[39m timeout:\n",
      "File \u001b[0;32m~/develop/github/SemanticKernelPlayground/skernel/lib/python3.11/site-packages/openai/api_resources/abstract/engine_api_resource.py:219\u001b[0m, in \u001b[0;36mEngineAPIResource.acreate\u001b[0;34m(cls, api_key, api_base, api_type, request_id, api_version, organization, **params)\u001b[0m\n\u001b[1;32m    194\u001b[0m \u001b[39m@classmethod\u001b[39m\n\u001b[1;32m    195\u001b[0m \u001b[39masync\u001b[39;00m \u001b[39mdef\u001b[39;00m \u001b[39macreate\u001b[39m(\n\u001b[1;32m    196\u001b[0m     \u001b[39mcls\u001b[39m,\n\u001b[0;32m   (...)\u001b[0m\n\u001b[1;32m    203\u001b[0m     \u001b[39m*\u001b[39m\u001b[39m*\u001b[39mparams,\n\u001b[1;32m    204\u001b[0m ):\n\u001b[1;32m    205\u001b[0m     (\n\u001b[1;32m    206\u001b[0m         deployment_id,\n\u001b[1;32m    207\u001b[0m         engine,\n\u001b[0;32m   (...)\u001b[0m\n\u001b[1;32m    217\u001b[0m         api_key, api_base, api_type, api_version, organization, \u001b[39m*\u001b[39m\u001b[39m*\u001b[39mparams\n\u001b[1;32m    218\u001b[0m     )\n\u001b[0;32m--> 219\u001b[0m     response, _, api_key \u001b[39m=\u001b[39m \u001b[39mawait\u001b[39;00m requestor\u001b[39m.\u001b[39marequest(\n\u001b[1;32m    220\u001b[0m         \u001b[39m\"\u001b[39m\u001b[39mpost\u001b[39m\u001b[39m\"\u001b[39m,\n\u001b[1;32m    221\u001b[0m         url,\n\u001b[1;32m    222\u001b[0m         params\u001b[39m=\u001b[39mparams,\n\u001b[1;32m    223\u001b[0m         headers\u001b[39m=\u001b[39mheaders,\n\u001b[1;32m    224\u001b[0m         stream\u001b[39m=\u001b[39mstream,\n\u001b[1;32m    225\u001b[0m         request_id\u001b[39m=\u001b[39mrequest_id,\n\u001b[1;32m    226\u001b[0m         request_timeout\u001b[39m=\u001b[39mrequest_timeout,\n\u001b[1;32m    227\u001b[0m     )\n\u001b[1;32m    229\u001b[0m     \u001b[39mif\u001b[39;00m stream:\n\u001b[1;32m    230\u001b[0m         \u001b[39m# must be an iterator\u001b[39;00m\n\u001b[1;32m    231\u001b[0m         \u001b[39massert\u001b[39;00m \u001b[39mnot\u001b[39;00m \u001b[39misinstance\u001b[39m(response, OpenAIResponse)\n",
      "File \u001b[0;32m~/develop/github/SemanticKernelPlayground/skernel/lib/python3.11/site-packages/openai/api_requestor.py:374\u001b[0m, in \u001b[0;36mAPIRequestor.arequest\u001b[0;34m(self, method, url, params, headers, files, stream, request_id, request_timeout)\u001b[0m\n\u001b[1;32m    372\u001b[0m result \u001b[39m=\u001b[39m \u001b[39mNone\u001b[39;00m\n\u001b[1;32m    373\u001b[0m \u001b[39mtry\u001b[39;00m:\n\u001b[0;32m--> 374\u001b[0m     result \u001b[39m=\u001b[39m \u001b[39mawait\u001b[39;00m \u001b[39mself\u001b[39m\u001b[39m.\u001b[39marequest_raw(\n\u001b[1;32m    375\u001b[0m         method\u001b[39m.\u001b[39mlower(),\n\u001b[1;32m    376\u001b[0m         url,\n\u001b[1;32m    377\u001b[0m         session,\n\u001b[1;32m    378\u001b[0m         params\u001b[39m=\u001b[39mparams,\n\u001b[1;32m    379\u001b[0m         supplied_headers\u001b[39m=\u001b[39mheaders,\n\u001b[1;32m    380\u001b[0m         files\u001b[39m=\u001b[39mfiles,\n\u001b[1;32m    381\u001b[0m         request_id\u001b[39m=\u001b[39mrequest_id,\n\u001b[1;32m    382\u001b[0m         request_timeout\u001b[39m=\u001b[39mrequest_timeout,\n\u001b[1;32m    383\u001b[0m     )\n\u001b[1;32m    384\u001b[0m     resp, got_stream \u001b[39m=\u001b[39m \u001b[39mawait\u001b[39;00m \u001b[39mself\u001b[39m\u001b[39m.\u001b[39m_interpret_async_response(result, stream)\n\u001b[1;32m    385\u001b[0m \u001b[39mexcept\u001b[39;00m \u001b[39mException\u001b[39;00m:\n\u001b[1;32m    386\u001b[0m     \u001b[39m# Close the request before exiting session context.\u001b[39;00m\n",
      "File \u001b[0;32m~/develop/github/SemanticKernelPlayground/skernel/lib/python3.11/site-packages/openai/api_requestor.py:678\u001b[0m, in \u001b[0;36mAPIRequestor.arequest_raw\u001b[0;34m(self, method, url, session, params, supplied_headers, files, request_id, request_timeout)\u001b[0m\n\u001b[1;32m    669\u001b[0m request_kwargs \u001b[39m=\u001b[39m {\n\u001b[1;32m    670\u001b[0m     \u001b[39m\"\u001b[39m\u001b[39mmethod\u001b[39m\u001b[39m\"\u001b[39m: method,\n\u001b[1;32m    671\u001b[0m     \u001b[39m\"\u001b[39m\u001b[39murl\u001b[39m\u001b[39m\"\u001b[39m: abs_url,\n\u001b[0;32m   (...)\u001b[0m\n\u001b[1;32m    675\u001b[0m     \u001b[39m\"\u001b[39m\u001b[39mtimeout\u001b[39m\u001b[39m\"\u001b[39m: timeout,\n\u001b[1;32m    676\u001b[0m }\n\u001b[1;32m    677\u001b[0m \u001b[39mtry\u001b[39;00m:\n\u001b[0;32m--> 678\u001b[0m     result \u001b[39m=\u001b[39m \u001b[39mawait\u001b[39;00m session\u001b[39m.\u001b[39mrequest(\u001b[39m*\u001b[39m\u001b[39m*\u001b[39mrequest_kwargs)\n\u001b[1;32m    679\u001b[0m     util\u001b[39m.\u001b[39mlog_info(\n\u001b[1;32m    680\u001b[0m         \u001b[39m\"\u001b[39m\u001b[39mOpenAI API response\u001b[39m\u001b[39m\"\u001b[39m,\n\u001b[1;32m    681\u001b[0m         path\u001b[39m=\u001b[39mabs_url,\n\u001b[0;32m   (...)\u001b[0m\n\u001b[1;32m    684\u001b[0m         request_id\u001b[39m=\u001b[39mresult\u001b[39m.\u001b[39mheaders\u001b[39m.\u001b[39mget(\u001b[39m\"\u001b[39m\u001b[39mX-Request-Id\u001b[39m\u001b[39m\"\u001b[39m),\n\u001b[1;32m    685\u001b[0m     )\n\u001b[1;32m    686\u001b[0m     \u001b[39m# Don't read the whole stream for debug logging unless necessary.\u001b[39;00m\n",
      "File \u001b[0;32m~/develop/github/SemanticKernelPlayground/skernel/lib/python3.11/site-packages/aiohttp/client.py:601\u001b[0m, in \u001b[0;36mClientSession._request\u001b[0;34m(self, method, str_or_url, params, data, json, cookies, headers, skip_auto_headers, auth, allow_redirects, max_redirects, compress, chunked, expect100, raise_for_status, read_until_eof, proxy, proxy_auth, timeout, verify_ssl, fingerprint, ssl_context, ssl, server_hostname, proxy_headers, trace_request_ctx, read_bufsize, auto_decompress, max_line_size, max_field_size)\u001b[0m\n\u001b[1;32m    599\u001b[0m resp \u001b[39m=\u001b[39m \u001b[39mawait\u001b[39;00m req\u001b[39m.\u001b[39msend(conn)\n\u001b[1;32m    600\u001b[0m \u001b[39mtry\u001b[39;00m:\n\u001b[0;32m--> 601\u001b[0m     \u001b[39mawait\u001b[39;00m resp\u001b[39m.\u001b[39mstart(conn)\n\u001b[1;32m    602\u001b[0m \u001b[39mexcept\u001b[39;00m \u001b[39mBaseException\u001b[39;00m:\n\u001b[1;32m    603\u001b[0m     resp\u001b[39m.\u001b[39mclose()\n",
      "File \u001b[0;32m~/develop/github/SemanticKernelPlayground/skernel/lib/python3.11/site-packages/aiohttp/client_reqrep.py:965\u001b[0m, in \u001b[0;36mClientResponse.start\u001b[0;34m(self, connection)\u001b[0m\n\u001b[1;32m    963\u001b[0m \u001b[39mtry\u001b[39;00m:\n\u001b[1;32m    964\u001b[0m     protocol \u001b[39m=\u001b[39m \u001b[39mself\u001b[39m\u001b[39m.\u001b[39m_protocol\n\u001b[0;32m--> 965\u001b[0m     message, payload \u001b[39m=\u001b[39m \u001b[39mawait\u001b[39;00m protocol\u001b[39m.\u001b[39mread()  \u001b[39m# type: ignore[union-attr]\u001b[39;00m\n\u001b[1;32m    966\u001b[0m \u001b[39mexcept\u001b[39;00m http\u001b[39m.\u001b[39mHttpProcessingError \u001b[39mas\u001b[39;00m exc:\n\u001b[1;32m    967\u001b[0m     \u001b[39mraise\u001b[39;00m ClientResponseError(\n\u001b[1;32m    968\u001b[0m         \u001b[39mself\u001b[39m\u001b[39m.\u001b[39mrequest_info,\n\u001b[1;32m    969\u001b[0m         \u001b[39mself\u001b[39m\u001b[39m.\u001b[39mhistory,\n\u001b[0;32m   (...)\u001b[0m\n\u001b[1;32m    972\u001b[0m         headers\u001b[39m=\u001b[39mexc\u001b[39m.\u001b[39mheaders,\n\u001b[1;32m    973\u001b[0m     ) \u001b[39mfrom\u001b[39;00m \u001b[39mexc\u001b[39;00m\n",
      "File \u001b[0;32m~/develop/github/SemanticKernelPlayground/skernel/lib/python3.11/site-packages/aiohttp/streams.py:622\u001b[0m, in \u001b[0;36mDataQueue.read\u001b[0;34m(self)\u001b[0m\n\u001b[1;32m    620\u001b[0m \u001b[39mself\u001b[39m\u001b[39m.\u001b[39m_waiter \u001b[39m=\u001b[39m \u001b[39mself\u001b[39m\u001b[39m.\u001b[39m_loop\u001b[39m.\u001b[39mcreate_future()\n\u001b[1;32m    621\u001b[0m \u001b[39mtry\u001b[39;00m:\n\u001b[0;32m--> 622\u001b[0m     \u001b[39mawait\u001b[39;00m \u001b[39mself\u001b[39m\u001b[39m.\u001b[39m_waiter\n\u001b[1;32m    623\u001b[0m \u001b[39mexcept\u001b[39;00m (asyncio\u001b[39m.\u001b[39mCancelledError, asyncio\u001b[39m.\u001b[39mTimeoutError):\n\u001b[1;32m    624\u001b[0m     \u001b[39mself\u001b[39m\u001b[39m.\u001b[39m_waiter \u001b[39m=\u001b[39m \u001b[39mNone\u001b[39;00m\n",
      "\u001b[0;31mCancelledError\u001b[0m: "
     ]
    }
   ],
   "source": [
    "from pprint import pprint\n",
    "\n",
    "question = \"Search all task containing verdolazzy and if the due date is in year 2021 add the word 'BOMB' as prefix of the title\"\n",
    "plan = sw_planner.create_plan(question)\n",
    "result = await plan.invoke_async()\n",
    "\n",
    "print(f\"Plan results: {result}\")\n",
    "pprint(result)\n"
   ]
  }
 ],
 "metadata": {
  "kernelspec": {
   "display_name": "skernel",
   "language": "python",
   "name": "python3"
  },
  "language_info": {
   "codemirror_mode": {
    "name": "ipython",
    "version": 3
   },
   "file_extension": ".py",
   "mimetype": "text/x-python",
   "name": "python",
   "nbconvert_exporter": "python",
   "pygments_lexer": "ipython3",
   "version": "3.10.9"
  }
 },
 "nbformat": 4,
 "nbformat_minor": 2
}
