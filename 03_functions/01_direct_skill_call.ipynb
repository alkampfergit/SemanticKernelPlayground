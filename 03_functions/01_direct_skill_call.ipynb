{
 "cells": [
  {
   "cell_type": "code",
   "execution_count": 1,
   "metadata": {},
   "outputs": [
    {
     "name": "stdout",
     "output_type": "stream",
     "text": [
      "https://alkopenai2.openai.azure.com/\n"
     ]
    }
   ],
   "source": [
    "import semantic_kernel as sk\n",
    "import os\n",
    "from dotenv import load_dotenv, find_dotenv\n",
    "\n",
    "_ = load_dotenv(find_dotenv()) # read local .env file\n",
    "print(os.getenv(\"OPENAI_API_BASE\"))\n"
   ]
  },
  {
   "cell_type": "code",
   "execution_count": 2,
   "metadata": {},
   "outputs": [
    {
     "data": {
      "text/plain": [
       "<semantic_kernel.kernel.Kernel at 0x1094b6e50>"
      ]
     },
     "execution_count": 2,
     "metadata": {},
     "output_type": "execute_result"
    }
   ],
   "source": [
    "\n",
    "from semantic_kernel.connectors.ai.open_ai import (\n",
    "    AzureChatCompletion,\n",
    "    AzureTextCompletion,\n",
    ")\n",
    "\n",
    "kernel = sk.Kernel(log=sk.NullLogger())\n",
    "kernel.add_chat_service(\n",
    "    \"chat_completion\",\n",
    "    AzureChatCompletion(\n",
    "        \"GPT35\",\n",
    "        os.getenv(\"OPENAI_API_BASE\"),\n",
    "        os.getenv(\"OPENAI_API_KEY\")\n",
    "    ),\n",
    ")"
   ]
  },
  {
   "cell_type": "code",
   "execution_count": 3,
   "metadata": {},
   "outputs": [],
   "source": [
    "# Now we need to import the plugin\n",
    "from plugins.JarvisPlugin.Tasks import Tasks\n",
    "\n",
    "# Now you can import the plugin importing skill directly from the function you declared\n",
    "# in the plugin directory. The import_skill does not need the path, it only need an\n",
    "# instance of the skill and the name of the skill\n",
    "tasks_plugin = kernel.import_skill(Tasks(), skill_name=\"JarvisPlugin\")\n"
   ]
  },
  {
   "cell_type": "code",
   "execution_count": 4,
   "metadata": {},
   "outputs": [
    {
     "name": "stdout",
     "output_type": "stream",
     "text": [
      "<semantic_kernel.orchestration.sk_function.SKFunction object at 0x116fe2090>\n"
     ]
    }
   ],
   "source": [
    "from pprint import pprint\n",
    "# want to print all the keys of extractaudio_plugin that is a dictionary\n",
    "\n",
    "pprint (tasks_plugin[\"ChangeTaskTitle\"])"
   ]
  },
  {
   "cell_type": "code",
   "execution_count": 5,
   "metadata": {},
   "outputs": [
    {
     "name": "stdout",
     "output_type": "stream",
     "text": [
      "Now call the api to change the title of the task Task_123 to This is tne new title\n",
      "7\n"
     ]
    }
   ],
   "source": [
    "# Now we can use the skill\n",
    "\n",
    "context = sk.ContextVariables()\n",
    "context[\"task_id\"] = \"Task_123\"\n",
    "context[\"new_title\"] = \"This is tne new title\"\n",
    "\n",
    "result = await kernel.run_async(\n",
    "    tasks_plugin[\"ChangeTaskTitle\"],\n",
    "    input_vars=context,\n",
    ")\n",
    "\n",
    "print(result)"
   ]
  }
 ],
 "metadata": {
  "kernelspec": {
   "display_name": "skernel",
   "language": "python",
   "name": "python3"
  },
  "language_info": {
   "codemirror_mode": {
    "name": "ipython",
    "version": 3
   },
   "file_extension": ".py",
   "mimetype": "text/x-python",
   "name": "python",
   "nbconvert_exporter": "python",
   "pygments_lexer": "ipython3",
   "version": "3.11.6"
  }
 },
 "nbformat": 4,
 "nbformat_minor": 2
}
