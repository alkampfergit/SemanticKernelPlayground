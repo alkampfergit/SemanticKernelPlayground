{
 "cells": [
  {
   "cell_type": "code",
   "execution_count": 2,
   "metadata": {},
   "outputs": [
    {
     "name": "stdout",
     "output_type": "stream",
     "text": [
      "https://openaiswedenalk.openai.azure.com/\n"
     ]
    }
   ],
   "source": [
    "import semantic_kernel as sk\n",
    "import os\n",
    "from dotenv import load_dotenv, find_dotenv\n",
    "\n",
    "_ = load_dotenv(find_dotenv()) # read local .env file\n",
    "print(os.getenv(\"OPENAI_API_BASE\"))\n"
   ]
  },
  {
   "cell_type": "code",
   "execution_count": 3,
   "metadata": {},
   "outputs": [
    {
     "data": {
      "text/plain": [
       "<semantic_kernel.kernel.Kernel at 0x1beff7870a0>"
      ]
     },
     "execution_count": 3,
     "metadata": {},
     "output_type": "execute_result"
    }
   ],
   "source": [
    "\n",
    "from semantic_kernel.connectors.ai.open_ai import (\n",
    "    AzureChatCompletion,\n",
    "    AzureTextCompletion,\n",
    ")\n",
    "\n",
    "kernel = sk.Kernel(log=sk.NullLogger())\n",
    "kernel.add_chat_service(\n",
    "    \"chat_completion\",\n",
    "    AzureChatCompletion(\n",
    "        \"GPT42\",\n",
    "        endpoint = os.getenv(\"OPENAI_API_BASE\"),\n",
    "        api_key = os.getenv(\"OPENAI_API_KEY\")\n",
    "    ),\n",
    ")"
   ]
  },
  {
   "cell_type": "code",
   "execution_count": 32,
   "metadata": {},
   "outputs": [
    {
     "name": "stdout",
     "output_type": "stream",
     "text": [
      "<semantic_kernel.orchestration.sk_function.SKFunction object at 0x11fc4ec90>\n"
     ]
    }
   ],
   "source": [
    "from pprint import pprint\n",
    "# we can import the whole plugin directory to scan for plugin\n",
    "plugins_directory = \"./plugins\"\n",
    "\n",
    "# Import the OrchestratorPlugin from the plugins directory.\n",
    "publishing_plugin = kernel.import_semantic_skill_from_directory(\n",
    "    plugins_directory, \"PublishingPlugin\"\n",
    ")\n",
    "pprint(publishing_plugin[\"VideoTimelineCreator\"])"
   ]
  },
  {
   "cell_type": "code",
   "execution_count": 33,
   "metadata": {},
   "outputs": [],
   "source": [
    "# we have an example transcript from openai whisper\n",
    "input = \"\"\"\n",
    "00:00\t Hi and welcome again to a new video about Ubiki, in which I deal with a question I got quite often\n",
    "00:09\t and the question is why I cannot use advanced shared features like SSHK stored in my Ubiki\n",
    "00:17\t when I work in Windows, it seems not supported.\n",
    "00:20\t So what is the problem?\n",
    "00:22\t This problem usually does not happen in Linux because Linux notively has support for SSH.\n",
    "00:28\t So when you update your Linux machine, usually you will receive the latest version of the\n",
    "00:34\t Open SSH protocol that supports Ubiki and you have no problem.\n",
    "00:40\t In Windows, the situation is little different.\n",
    "00:43\t Let me show you why.\n",
    "00:45\t In the vast majority of situations, the problem is not having the latest version of SSH.\n",
    "00:51\t And to verify this, open a Windows terminal and type SSH, sorry, SSH-capital day.\n",
    "00:59\t And if you did not ever install or upgrade SSH, this is the answer.\n",
    "01:06\t The answer is open SSH for Windows 8.6 and this is indeed too old to support your Ubiki.\n",
    "01:15\t Now the usual follow-up question is, I keep my Windows up to date, I install all the\n",
    "01:21\t operating system update.\n",
    "01:22\t If you need the open SSH part of the operating system, so it's supposed to be update with\n",
    "01:28\t the standard Windows update program, the answer is no.\n",
    "01:35\t If you go on the GitHub repository of PowerShell, we in 32 open SSH, you can already see that\n",
    "01:42\t the release shows you that the latest version is indeed the 9.4 and it is really, really\n",
    "01:49\t much more recent than the 8.6.\n",
    "01:52\t So why it is not automatically updated?\n",
    "01:57\t And the answer is because Microsoft changed it how it supports SSH, so you now need to\n",
    "02:03\t install the open SSH package separately as another as you install other software in Windows.\n",
    "02:11\t It's really supported by Microsoft, but it's not part of the standard update cycle of\n",
    "02:16\t the operating system.\n",
    "02:18\t The solution is really, really simple.\n",
    "02:21\t You just open the terminal and you can use Wingat, new Windows package manager to find\n",
    "02:28\t the package that contains the latest version.\n",
    "02:30\t So you can search open SSH and look at the supported, sorry, it's the Wingat search, open\n",
    "02:38\t SSH and it will tell you that there is open SSH beta Microsoft open SSH.beta and even if\n",
    "02:45\t it's a beta version, it's fully supported and it works perfectly and it should be the\n",
    "02:49\t version that you are going to install.\n",
    "02:52\t So you can simply Wingat install Microsoft open SSH and letting Wingat, sorry, beta and\n",
    "03:01\t letting Wingat install everything for you.\n",
    "03:04\t So you just wait a little bit for the package to be installed and then you will verify if\n",
    "03:10\t the new version of SSH is indeed installed.\n",
    "03:15\t If you type SSH-capital v again to verify the version, you can verify that now you have\n",
    "03:24\t not anymore the 8.6 version, but you now have the Windows 9.4 version that is updated\n",
    "03:31\t and it fully supports your Ubiki.\n",
    "03:33\t So before starting using SSH functionalities on Windows, please just be sure you updated\n",
    "03:41\t the SSH protocol, the open SSH protocol to the latest version and thanks to Wingat, it\n",
    "03:48\t is just a one-line install instruction.\n",
    "03:53\t And this concludes this video.\n",
    "03:55\t I hope you enjoyed it and I'm waiting you for the next one in the Ubiki series.\n",
    "\"\"\""
   ]
  },
  {
   "cell_type": "code",
   "execution_count": 34,
   "metadata": {},
   "outputs": [
    {
     "name": "stdout",
     "output_type": "stream",
     "text": [
      "00:00 - Introduction to Ubiki and SSH Issues on Windows\n",
      "00:40 - Explanation of SSH Version Problem on Windows\n",
      "01:15 - Questioning Windows Update and SSH Compatibility\n",
      "01:35 - Discussion on GitHub Repository of PowerShell\n",
      "01:57 - Explanation of Microsoft's Change in SSH Support\n",
      "02:18 - Solution to Update SSH on Windows\n",
      "03:33 - Final Reminder and Conclusion of the Video\n"
     ]
    }
   ],
   "source": [
    "# Now we can use the skill\n",
    "# Run the Sqrt function with the context.\n",
    "\n",
    "result = await kernel.run_async(\n",
    "    publishing_plugin[\"VideoTimelineCreator\"],\n",
    "    input_str=input,\n",
    ")\n",
    "\n",
    "print(result)"
   ]
  }
 ],
 "metadata": {
  "kernelspec": {
   "display_name": "skernel",
   "language": "python",
   "name": "python3"
  },
  "language_info": {
   "codemirror_mode": {
    "name": "ipython",
    "version": 3
   },
   "file_extension": ".py",
   "mimetype": "text/x-python",
   "name": "python",
   "nbconvert_exporter": "python",
   "pygments_lexer": "ipython3",
   "version": "3.10.9"
  }
 },
 "nbformat": 4,
 "nbformat_minor": 2
}
