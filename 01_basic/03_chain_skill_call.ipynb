{
 "cells": [
  {
   "cell_type": "code",
   "execution_count": 1,
   "metadata": {},
   "outputs": [
    {
     "name": "stdout",
     "output_type": "stream",
     "text": [
      "https://openaiswedenalk.openai.azure.com/\n"
     ]
    }
   ],
   "source": [
    "import semantic_kernel as sk\n",
    "import os\n",
    "from dotenv import load_dotenv, find_dotenv\n",
    "\n",
    "_ = load_dotenv(find_dotenv()) # read local .env file\n",
    "print(os.getenv(\"OPENAI_API_BASE\"))\n"
   ]
  },
  {
   "cell_type": "code",
   "execution_count": 2,
   "metadata": {},
   "outputs": [],
   "source": [
    "# for this example I want a valid logger\n",
    "import logging\n",
    "\n",
    "# Create a logger\n",
    "logger = logging.getLogger(\"SK\")\n",
    "\n",
    "# Set the logging level to INFO\n",
    "logger.setLevel(logging.DEBUG)\n",
    "\n",
    "# Create a console handler\n",
    "console_handler = logging.StreamHandler()\n",
    "\n",
    "# Set the level of the console handler to INFO\n",
    "console_handler.setLevel(logging.DEBUG)\n",
    "\n",
    "# Create a formatter\n",
    "formatter = logging.Formatter('%(asctime)s - %(name)s - %(levelname)s - %(message)s')\n",
    "\n",
    "# Set the formatter for the console handler\n",
    "console_handler.setFormatter(formatter)\n",
    "\n",
    "# Add the console handler to the logger\n",
    "logger.addHandler(console_handler)\n"
   ]
  },
  {
   "cell_type": "code",
   "execution_count": 4,
   "metadata": {},
   "outputs": [
    {
     "data": {
      "text/plain": [
       "<semantic_kernel.kernel.Kernel at 0x232f9e0c280>"
      ]
     },
     "execution_count": 4,
     "metadata": {},
     "output_type": "execute_result"
    }
   ],
   "source": [
    "from semantic_kernel.connectors.ai.open_ai import (\n",
    "    AzureChatCompletion,\n",
    "    AzureTextCompletion,\n",
    ")\n",
    "\n",
    "kernel = sk.Kernel(log=logger)\n",
    "kernel.add_chat_service(\n",
    "    \"chat_completion\",\n",
    "    AzureChatCompletion(\n",
    "        \"GPT4t\",\n",
    "        endpoint = os.getenv(\"OPENAI_API_BASE\"),\n",
    "        api_key = os.getenv(\"OPENAI_API_KEY\")\n",
    "    ),\n",
    ")"
   ]
  },
  {
   "cell_type": "code",
   "execution_count": 5,
   "metadata": {},
   "outputs": [
    {
     "name": "stderr",
     "output_type": "stream",
     "text": [
      "2023-12-05 18:06:36,058 - SK - DEBUG - Importing skill AudioVideoPlugin\n",
      "2023-12-05 18:06:36,060 - SK - DEBUG - Methods imported: 2\n",
      "2023-12-05 18:06:36,069 - SK - DEBUG - Extracting blocks from template: I will give you a transcript of a video. The transcript contains phrases prefixed by the timestamp where the phrase starts. I want you to identify between three and ten main sections of the video. You must never identify more than ten sections.\n",
      "For each section you will create a brief title prefixed with the start timestamp of the section obtained analyzing all the text belonging to that section.\n",
      "\n",
      "EXAMPLE ANSWER - Maximum of ten sections\n",
      "00:00 - Title of section 1\n",
      "00:33 - Title of section 2\n",
      "01:23 - Title of section 3\n",
      "\n",
      "[DATA]\n",
      "{{$input}}\n"
     ]
    }
   ],
   "source": [
    "# Now we need to import the plugin\n",
    "from plugins.AudioVideoPlugin.AudioVideo import AudioVideo\n",
    "\n",
    "# Now you can import the plugin importing skill directly from the function you declared\n",
    "# in the plugin directory. The import_skill does not need the path, it only need an\n",
    "# instance of the skill and the name of the skill\n",
    "extractaudio_plugin = kernel.import_skill(AudioVideo(), skill_name=\"AudioVideoPlugin\")\n",
    "\n",
    "plugins_directory = \"./plugins\"\n",
    "\n",
    "# Import the OrchestratorPlugin from the plugins directory.\n",
    "publishing_plugin = kernel.import_semantic_skill_from_directory(\n",
    "    plugins_directory, \"PublishingPlugin\"\n",
    ")\n"
   ]
  },
  {
   "cell_type": "code",
   "execution_count": 6,
   "metadata": {},
   "outputs": [
    {
     "name": "stdout",
     "output_type": "stream",
     "text": [
      "<semantic_kernel.orchestration.sk_function.SKFunction object at 0x00000232F9EABF70>\n",
      "<semantic_kernel.orchestration.sk_function.SKFunction object at 0x0000023289213D60>\n",
      "<semantic_kernel.orchestration.sk_function.SKFunction object at 0x0000023289212EC0>\n"
     ]
    }
   ],
   "source": [
    "from pprint import pprint\n",
    "# want to print all the keys of extractaudio_plugin that is a dictionary\n",
    "\n",
    "pprint (extractaudio_plugin[\"ExtractAudio\"])\n",
    "pprint (extractaudio_plugin[\"TranscriptTimeline\"])\n",
    "pprint (publishing_plugin[\"VideoTimelineCreator\"])"
   ]
  },
  {
   "cell_type": "code",
   "execution_count": 7,
   "metadata": {},
   "outputs": [
    {
     "data": {
      "text/plain": [
       "True"
      ]
     },
     "execution_count": 7,
     "metadata": {},
     "output_type": "execute_result"
    }
   ],
   "source": [
    "# you can verify if cuda is available.\n",
    "import torch\n",
    "torch.cuda.is_available()"
   ]
  },
  {
   "cell_type": "code",
   "execution_count": 8,
   "metadata": {},
   "outputs": [
    {
     "name": "stdout",
     "output_type": "stream",
     "text": [
      "Extracting auio file from video C:\\temp\\230Github.mp4\n",
      "Extracting transcript from audio file C:\\temp\\230Github.wav\n",
      "Using device: cuda:0 to run whisper\n"
     ]
    },
    {
     "name": "stderr",
     "output_type": "stream",
     "text": [
      "100%|██████████| 63281/63281 [01:52<00:00, 564.45frames/s]\n",
      "2023-12-05 18:08:47,643 - SK - DEBUG - Rendering string template: I will give you a transcript of a video. The transcript contains phrases prefixed by the timestamp where the phrase starts. I want you to identify between three and ten main sections of the video. You must never identify more than ten sections.\n",
      "For each section you will create a brief title prefixed with the start timestamp of the section obtained analyzing all the text belonging to that section.\n",
      "\n",
      "EXAMPLE ANSWER - Maximum of ten sections\n",
      "00:00 - Title of section 1\n",
      "00:33 - Title of section 2\n",
      "01:23 - Title of section 3\n",
      "\n",
      "[DATA]\n",
      "{{$input}}\n",
      "2023-12-05 18:08:47,643 - SK - DEBUG - Extracting blocks from template: I will give you a transcript of a video. The transcript contains phrases prefixed by the timestamp where the phrase starts. I want you to identify between three and ten main sections of the video. You must never identify more than ten sections.\n",
      "For each section you will create a brief title prefixed with the start timestamp of the section obtained analyzing all the text belonging to that section.\n",
      "\n",
      "EXAMPLE ANSWER - Maximum of ten sections\n",
      "00:00 - Title of section 1\n",
      "00:33 - Title of section 2\n",
      "01:23 - Title of section 3\n",
      "\n",
      "[DATA]\n",
      "{{$input}}\n",
      "2023-12-05 18:08:47,645 - SK - DEBUG - Rendering list of 2 blocks\n",
      "2023-12-05 18:08:47,645 - SK - DEBUG - Rendered prompt: I will give you a transcript of a video. The transcript contains phrases prefixed by the timestamp where the phrase starts. I want you to identify between three and ten main sections of the video. You must never identify more than ten sections.\n",
      "For each section you will create a brief title prefixed with the start timestamp of the section obtained analyzing all the text belonging to that section.\n",
      "\n",
      "EXAMPLE ANSWER - Maximum of ten sections\n",
      "00:00 - Title of section 1\n",
      "00:33 - Title of section 2\n",
      "01:23 - Title of section 3\n",
      "\n",
      "[DATA]\n",
      "00:00\t Hi and welcome back to this new video about YubiKey where I'm going to show you how you can use your\n",
      "00:07\t YubiKey in your GitHub account to have a more secure experience of using your GitHub account\n",
      "00:15\t with a secure hardware backup SSH key.\n",
      "00:20\t As I did in the previous video,\n",
      "00:22\t I'm gonna show you everything in a remote desktop connection just to show you that if you are using Windows or remote desktop\n",
      "00:29\t connection, you can have a fully experience for your YubiKey inside your remote machine where you are connected to.\n",
      "00:38\t And in this time, we are going to show how you can clone and interact with your repository using an SSH key.\n",
      "00:46\t This is not a new thing in Git and if you are a long-term Git user,\n",
      "00:51\t you can remember when at the very first days of GitHub, you usually will access your\n",
      "00:59\t repository with an SSH key and then after years after years, the preferred\n",
      "01:06\t protocol supported was HTTPS. So usually when you press clone, you got your\n",
      "01:12\t this nice https.github.com blah blah blah or that you can use directly with your git clone command.\n",
      "01:21\t But if you press SSH, you can look at a new way of\n",
      "01:26\t cloning and interacting with your GitHub repository and the URL of the repository is different. It starts with git at\n",
      "01:33\t github.com and\n",
      "01:35\t this type of access is made with the SSH protocol and it is\n",
      "01:42\t especially useful if you are using your\n",
      "01:46\t repository in a shared computer or in a computer that is not fully secure.\n",
      "01:52\t Remember when you clone or interact with the repository in GitHub,\n",
      "01:58\t usually you enter the credentials for the first time and\n",
      "02:01\t maybe after some month of usage. This means that your Windows operating system is\n",
      "02:07\t caching, it's storing securely the credential inside what is called credential manager in Windows.\n",
      "02:13\t But this means that if someone gonna have access to your Windows and it's able to\n",
      "02:21\t login inside your Windows account, they can interact with your GitHub repository using your cached credential.\n",
      "02:27\t So, let's see how SSH is different.\n",
      "02:32\t Now I'm showing you again how to create a key inside an SSH key inside your YubiKey\n",
      "02:38\t and I'm suggesting you to look at my previous video about SSH and this is just to show you that I can create\n",
      "02:47\t an SSH key even if I'm inside a remote desktop machine. Now I proceed to create an\n",
      "02:54\t SSH key on my YubiKey directly in my machine in which I'm connected with the remote desktop.\n",
      "03:00\t This is usually not the best option because the remote desktop connection does not fully support all the options.\n",
      "03:06\t But for a standard key using the standard command of\n",
      "03:11\t SSH KGen-T and the name of the key, remember the dash SK is used to specify an\n",
      "03:18\t hardware key. You can press this, you can press OK to authorize the access to your key. You can\n",
      "03:25\t type your PIN, press button and\n",
      "03:29\t then it asks you the name of the key. You can left the default one and you can choose a passphrase.\n",
      "03:35\t So the passphrase is usually used to\n",
      "03:39\t encrypt your private key and in case of a\n",
      "03:42\t key stored inside your physical YubiKey, you can even go passwordless because\n",
      "03:48\t actually the real key is stored inside your YubiKey.\n",
      "03:53\t So you can even choose not to give a password. In this situation, I've given a\n",
      "03:58\t really simple password just to show you how you can use the default option.\n",
      "04:04\t Now inside your home folder, a folder called\n",
      "04:08\t .SSH appears and you have the public key and you can open, you can press open with and you can open with Notepad.\n",
      "04:16\t And this is indeed your\n",
      "04:19\t public\n",
      "04:21\t public key and you're going to copy this inside your GitHub account\n",
      "04:26\t just to confirm to tell GitHub that this public key correspond to a private key you have access to and\n",
      "04:34\t this can verify your identity.\n",
      "04:36\t You can just copy all the text of your public key.\n",
      "04:41\t Remember the public key is the file that ends with .pub.\n",
      "04:45\t You can go to the setting of your account and if you scroll down you have a section called\n",
      "04:50\t SSH and GPG case. You can press this one and you can go to the SSH key section and you can\n",
      "05:00\t add a new SSH key. So you can give a title, it is demo and\n",
      "05:06\t I'm pressing the, I'm just pasting the content of the public key.\n",
      "05:12\t So the key type is authentication key or sign in key.\n",
      "05:15\t So in this situation use authentication key because it's the option you really want and you can press add\n",
      "05:21\t SSH key and now GitHub knows that this\n",
      "05:25\t SSH key, the public version, the public\n",
      "05:28\t part of this key correspond to a private key you have in your hand.\n",
      "05:34\t So it can be used to verify your access through SSH protocol.\n",
      "05:39\t Go into one of your repository again, and when you press code and choose\n",
      "05:44\t SSH as protocol, the warning that you have no SSH key has vanished. Now you can really\n",
      "05:51\t copy the URL and use it to clone the repository in a\n",
      "05:58\t location of your drive.\n",
      "06:00\t Now you can clone your repository as you clone with HTTPS protocol. Just git clone and\n",
      "06:06\t the address of the repository, you press enter and it is asking you\n",
      "06:14\t if you recognize the authenticity of GitHub and this show you the first reason why\n",
      "06:22\t SSH is more secure than HTTPS protocol. As you can see if you take the fingerprint of the key this\n",
      "06:30\t SSH 256 plus DI blah blah blah blah and you search in the internet or you know the URL where GitHub published\n",
      "06:37\t their public key, you can see that indeed\n",
      "06:41\t this key matched. So this is important because it gives you the\n",
      "06:48\t 100%\n",
      "06:49\t confirmation that the other part of the party is GitHub and no one is\n",
      "06:53\t intercepting your traffic with a man in the middle because if someone\n",
      "06:58\t hijack your DNS and trick you into connecting its own server,\n",
      "07:03\t they cannot present you with the public key that GitHub has because to present you this public key\n",
      "07:11\t it means that they have private corresponding private key.\n",
      "07:14\t So the first advantage of connecting with SSH protocol is mutual authentication.\n",
      "07:20\t GitHub will know who you are, but you are sure that the other part is really and indeed GitHub.\n",
      "07:26\t Since I verify that the fingerprint is okay, I can tell yes\n",
      "07:31\t continually and I can now pass my\n",
      "07:37\t passphrase and I need to\n",
      "07:40\t touch my key and my presence is confirmed.\n",
      "07:43\t So the good part is I was able to verify that\n",
      "07:47\t GitHub is indeed GitHub and GitHub verified that I have my private key inside my YubiKey. Now\n",
      "07:53\t the question is why you want to use SSH in\n",
      "07:58\t 2023\n",
      "07:59\t for your GitHub repositories? Well, first of all, you have multiple authentication.\n",
      "08:04\t SSH protocol really gives you the ability to verify that the other part is really GitHub.\n",
      "08:10\t So you are sending your code somewhere and you want to be sure that when you push your code or pull your code,\n",
      "08:16\t the code really comes from GitHub and SSH protocol is an industry standard secure protocol that can give you\n",
      "08:23\t this certainty. 100% you are secure, you're connecting to GitHub upon verification of the public key.\n",
      "08:30\t The second advantage is when you use a computer that is used by many person or that cannot be\n",
      "08:38\t completely secure because when you use an SSH key stored inside your physical YubiKey to\n",
      "08:44\t actually use the SSH protocol, you need to have physically your YubiKey in your hand and connected to your computer.\n",
      "08:51\t So even if you are using a shared computer,\n",
      "08:54\t even if you forget to delete your private and public key from the computer before leaving,\n",
      "09:00\t those files are not useful, cannot be used without your physical key. So you can choose\n",
      "09:08\t not super hard to\n",
      "09:10\t remember password for your private key file because the private key file is not useful if you don't have\n",
      "09:16\t physically YubiKey in your process and\n",
      "09:20\t all the demo I did in this video were done into a\n",
      "09:24\t machine, into a Windows machine. I've connected with remote desktop. So if you are a Windows user and you extensively use\n",
      "09:32\t remote desktop to access a remote machine and you need to use that remote machine to access your GitHub\n",
      "09:40\t repository, having an SSH key using SSH protocol with your YubiKey is probably the most\n",
      "09:47\t secure way you can use and the easiest one. You can just\n",
      "09:52\t remote desktop to your machine,\n",
      "09:54\t interact with Git, fetch and push and each time you interact with the server, you\n",
      "09:59\t have the guarantee that the server is in their GitHub and you have a\n",
      "10:05\t guarantee that no one can use your authentication in that machine if they have not your,\n",
      "10:11\t if they does not have your physical key. And\n",
      "10:16\t this concludes the video on how you can have a\n",
      "10:20\t more secure interaction with your GitHub repository using SSH key stored inside your YubiKey.\n",
      "10:26\t I hope you enjoyed the video and I'm waiting you to the next one video. Bye. Bye.\n",
      "\n"
     ]
    },
    {
     "name": "stdout",
     "output_type": "stream",
     "text": [
      "extracted 114 audio segments\n"
     ]
    }
   ],
   "source": [
    "# Now we can use the skill\n",
    "# Run the Sqrt function with the context.\n",
    "result = await kernel.run_async(\n",
    "    extractaudio_plugin[\"ExtractAudio\"],\n",
    "    extractaudio_plugin[\"TranscriptTimeline\"],\n",
    "    publishing_plugin[\"VideoTimelineCreator\"],\n",
    "    input_str=\"C:\\\\temp\\\\230Github.mp4\",\n",
    ")\n"
   ]
  },
  {
   "cell_type": "code",
   "execution_count": 9,
   "metadata": {},
   "outputs": [
    {
     "name": "stdout",
     "output_type": "stream",
     "text": [
      "00:00 - Introduction to Secure GitHub Access with YubiKey\n",
      "00:38 - Cloning and Interacting with GitHub Repositories via SSH\n",
      "02:32 - Creating an SSH Key Inside YubiKey on a Remote Desktop\n",
      "04:21 - Adding the Public Key to GitHub Account\n",
      "05:39 - Cloning a Repository Using SSH Protocol\n",
      "07:14 - Advantages of SSH Protocol for Security and Authentication\n",
      "09:20 - Benefits of Using SSH with YubiKey for Remote Desktop Users\n",
      "10:16 - Conclusion and Benefits of SSH Key with YubiKey for GitHub Security\n"
     ]
    }
   ],
   "source": [
    "print(result)"
   ]
  }
 ],
 "metadata": {
  "kernelspec": {
   "display_name": "skernel",
   "language": "python",
   "name": "python3"
  },
  "language_info": {
   "codemirror_mode": {
    "name": "ipython",
    "version": 3
   },
   "file_extension": ".py",
   "mimetype": "text/x-python",
   "name": "python",
   "nbconvert_exporter": "python",
   "pygments_lexer": "ipython3",
   "version": "3.10.9"
  }
 },
 "nbformat": 4,
 "nbformat_minor": 2
}
