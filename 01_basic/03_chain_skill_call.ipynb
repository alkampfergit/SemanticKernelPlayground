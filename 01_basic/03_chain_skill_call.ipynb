{
 "cells": [
  {
   "cell_type": "code",
   "execution_count": 1,
   "metadata": {},
   "outputs": [
    {
     "name": "stdout",
     "output_type": "stream",
     "text": [
      "https://openaiswedenalk.openai.azure.com/\n"
     ]
    }
   ],
   "source": [
    "import semantic_kernel as sk\n",
    "import os\n",
    "from dotenv import load_dotenv, find_dotenv\n",
    "\n",
    "_ = load_dotenv(find_dotenv()) # read local .env file\n",
    "print(os.getenv(\"OPENAI_API_BASE\"))\n"
   ]
  },
  {
   "cell_type": "code",
   "execution_count": 2,
   "metadata": {},
   "outputs": [],
   "source": [
    "# for this example I want a valid logger\n",
    "import logging\n",
    "\n",
    "# Create a logger\n",
    "logger = logging.getLogger(\"SK\")\n",
    "\n",
    "# Set the logging level to INFO\n",
    "logger.setLevel(logging.DEBUG)\n",
    "\n",
    "# Create a console handler\n",
    "console_handler = logging.StreamHandler()\n",
    "\n",
    "# Set the level of the console handler to INFO\n",
    "console_handler.setLevel(logging.DEBUG)\n",
    "\n",
    "# Create a formatter\n",
    "formatter = logging.Formatter('%(asctime)s - %(name)s - %(levelname)s - %(message)s')\n",
    "\n",
    "# Set the formatter for the console handler\n",
    "console_handler.setFormatter(formatter)\n",
    "\n",
    "# Add the console handler to the logger\n",
    "logger.addHandler(console_handler)\n"
   ]
  },
  {
   "cell_type": "code",
   "execution_count": 3,
   "metadata": {},
   "outputs": [
    {
     "data": {
      "text/plain": [
       "<semantic_kernel.kernel.Kernel at 0x23533dadfc0>"
      ]
     },
     "execution_count": 3,
     "metadata": {},
     "output_type": "execute_result"
    }
   ],
   "source": [
    "from semantic_kernel.connectors.ai.open_ai import (\n",
    "    AzureChatCompletion,\n",
    "    AzureTextCompletion,\n",
    ")\n",
    "\n",
    "kernel = sk.Kernel(log=logger)\n",
    "kernel.add_chat_service(\n",
    "    \"chat_completion\",\n",
    "    AzureChatCompletion(\n",
    "        \"GPT4t\",\n",
    "        endpoint = os.getenv(\"OPENAI_API_BASE\"),\n",
    "        api_key = os.getenv(\"OPENAI_API_KEY\")\n",
    "    ),\n",
    ")"
   ]
  },
  {
   "cell_type": "code",
   "execution_count": 4,
   "metadata": {},
   "outputs": [
    {
     "name": "stderr",
     "output_type": "stream",
     "text": [
      "2023-12-30 16:06:56,241 - SK - DEBUG - Importing skill AudioVideoPlugin\n",
      "2023-12-30 16:06:56,242 - SK - DEBUG - Methods imported: 2\n",
      "2023-12-30 16:06:56,251 - SK - DEBUG - Extracting blocks from template: I will give you a transcript of a video. The transcript contains phrases prefixed by the timestamp where the phrase starts. I want you to identify between three and ten main sections of the video. You must never identify more than ten sections.\n",
      "For each section you will create a brief title prefixed with the start timestamp of the section obtained analyzing all the text belonging to that section.\n",
      "\n",
      "EXAMPLE ANSWER - Maximum of ten sections\n",
      "00:00 - Title of section 1\n",
      "00:33 - Title of section 2\n",
      "01:23 - Title of section 3\n",
      "\n",
      "[DATA]\n",
      "{{$input}}\n"
     ]
    }
   ],
   "source": [
    "# Now we need to import the plugin\n",
    "from plugins.AudioVideoPlugin.AudioVideo import AudioVideo\n",
    "\n",
    "# Now you can import the plugin importing skill directly from the function you declared\n",
    "# in the plugin directory. The import_skill does not need the path, it only need an\n",
    "# instance of the skill and the name of the skill\n",
    "extractaudio_plugin = kernel.import_skill(AudioVideo(), skill_name=\"AudioVideoPlugin\")\n",
    "\n",
    "plugins_directory = \"./plugins\"\n",
    "\n",
    "# Import the OrchestratorPlugin from the plugins directory.\n",
    "publishing_plugin = kernel.import_semantic_skill_from_directory(\n",
    "    plugins_directory, \"PublishingPlugin\"\n",
    ")\n"
   ]
  },
  {
   "cell_type": "code",
   "execution_count": 5,
   "metadata": {},
   "outputs": [
    {
     "name": "stdout",
     "output_type": "stream",
     "text": [
      "<semantic_kernel.orchestration.sk_function.SKFunction object at 0x0000023564054040>\n",
      "<semantic_kernel.orchestration.sk_function.SKFunction object at 0x000002356F751C90>\n",
      "<semantic_kernel.orchestration.sk_function.SKFunction object at 0x000002356F752680>\n"
     ]
    }
   ],
   "source": [
    "from pprint import pprint\n",
    "# want to print all the keys of extractaudio_plugin that is a dictionary\n",
    "\n",
    "pprint (extractaudio_plugin[\"ExtractAudio\"])\n",
    "pprint (extractaudio_plugin[\"TranscriptTimeline\"])\n",
    "pprint (publishing_plugin[\"VideoTimelineCreator\"])"
   ]
  },
  {
   "cell_type": "code",
   "execution_count": 6,
   "metadata": {},
   "outputs": [
    {
     "data": {
      "text/plain": [
       "True"
      ]
     },
     "execution_count": 6,
     "metadata": {},
     "output_type": "execute_result"
    }
   ],
   "source": [
    "# you can verify if cuda is available.\n",
    "import torch\n",
    "torch.cuda.is_available()"
   ]
  },
  {
   "cell_type": "code",
   "execution_count": 7,
   "metadata": {},
   "outputs": [
    {
     "name": "stdout",
     "output_type": "stream",
     "text": [
      "Extracting auio file from video c:\\temp\\300.mp4\n",
      "Extracting transcript from audio file c:\\temp\\300.wav\n",
      "Using device: cuda:0 to run whisper\n"
     ]
    },
    {
     "name": "stderr",
     "output_type": "stream",
     "text": [
      "100%|██████████| 74385/74385 [02:02<00:00, 605.11frames/s]\n",
      "2023-12-30 16:09:15,531 - SK - DEBUG - Rendering string template: I will give you a transcript of a video. The transcript contains phrases prefixed by the timestamp where the phrase starts. I want you to identify between three and ten main sections of the video. You must never identify more than ten sections.\n",
      "For each section you will create a brief title prefixed with the start timestamp of the section obtained analyzing all the text belonging to that section.\n",
      "\n",
      "EXAMPLE ANSWER - Maximum of ten sections\n",
      "00:00 - Title of section 1\n",
      "00:33 - Title of section 2\n",
      "01:23 - Title of section 3\n",
      "\n",
      "[DATA]\n",
      "{{$input}}\n",
      "2023-12-30 16:09:15,531 - SK - DEBUG - Extracting blocks from template: I will give you a transcript of a video. The transcript contains phrases prefixed by the timestamp where the phrase starts. I want you to identify between three and ten main sections of the video. You must never identify more than ten sections.\n",
      "For each section you will create a brief title prefixed with the start timestamp of the section obtained analyzing all the text belonging to that section.\n",
      "\n",
      "EXAMPLE ANSWER - Maximum of ten sections\n",
      "00:00 - Title of section 1\n",
      "00:33 - Title of section 2\n",
      "01:23 - Title of section 3\n",
      "\n",
      "[DATA]\n",
      "{{$input}}\n",
      "2023-12-30 16:09:15,577 - SK - DEBUG - Rendering list of 2 blocks\n",
      "2023-12-30 16:09:15,578 - SK - DEBUG - Rendered prompt: I will give you a transcript of a video. The transcript contains phrases prefixed by the timestamp where the phrase starts. I want you to identify between three and ten main sections of the video. You must never identify more than ten sections.\n",
      "For each section you will create a brief title prefixed with the start timestamp of the section obtained analyzing all the text belonging to that section.\n",
      "\n",
      "EXAMPLE ANSWER - Maximum of ten sections\n",
      "00:00 - Title of section 1\n",
      "00:33 - Title of section 2\n",
      "01:23 - Title of section 3\n",
      "\n",
      "[DATA]\n",
      "00:00\t Hi and welcome to this new video about Yubikey where I'm gonna talk about living with only one key and, generally speaking, how you can handle the concept of having an alternate way to access your account or your services if none of your Yubikey is working.\n",
      "00:19\t And this is a strange situation because usually the supported and the suggested scenario is you having more than one key, two, three or four keys, so whenever one key gets lost or it's broken, you can use another key for accessing your service.\n",
      "00:35\t Generally speaking, the golden rule for using Yubikey or hardware keys is having more than one key.\n",
      "00:43\t So whenever you record one of your keys with a service, you always record another key for the same service.\n",
      "00:52\t So you can access and you can use any one of your keys on that service without any problem.\n",
      "00:57\t So you can use one key off your keyset and that's the reason why all the people suggest you to always have two or more keys to live an happy life.\n",
      "01:10\t Nevertheless, some friends, some people ask me if they want to evaluate the key, so instead of immediately spending money for two or three keys, they want to know if I buy only one key,\n",
      "01:23\t can I live with one key and which is the risks, what happens if I'm gonna lose the key or that key got broken and how I can prevent problem if I'm using only one key.\n",
      "01:37\t So the question is, it is possible to use one key and which are the disadvantages I'm gonna catch with only one key.\n",
      "01:46\t Well, as usual, you need to understand which kind of functionality you are using from your Yubikey.\n",
      "01:53\t As an example, if you are using Yubikey for TOTP as a two-factor authentication with the Yubico Authenticator app on your phone, there's absolutely no problem.\n",
      "02:05\t If you have only one key, usually you take a picture of the QR code with another phone so you can get the key into another phone and maybe back it up in your Google account if you have an Android.\n",
      "02:17\t Also, you can just right-click the QR code that the service is showing you and save that QR code inside the secure archive like a KPaaS archive protected by a super strong password and clearly do not protect the KPaaS with the same Yubikey.\n",
      "02:32\t In that situation, if your Yubikey gets lost, you can use your second phone to generate code for accessing the service.\n",
      "02:42\t And if you have another key, you can grab your QR code from your backup from your KPaaS archive and load again inside the new key.\n",
      "02:51\t And so, in this situation, if you have only one key, if that key gets lost, you can immediately be operative again using a second phone, using a phone, and there's no problem.\n",
      "03:03\t When you get your new Yubikey, you can load again, code inside the Yubikey, and you're ready to go.\n",
      "03:08\t So, you can live with this scenario with only one key.\n",
      "03:12\t A small different situation if you are using the other algorithm, that one used by KPaaS XE as I showed you in a previous video,\n",
      "03:22\t because in that situation, you indeed have a way to backup your seed code that you are loading inside your Yubikey.\n",
      "03:29\t So, if you lost the key, you have your backup code and you can load into a new key, but the problem is, until you get the new key, you are probably cut out from accessing your KPaaS archive.\n",
      "03:42\t And that is because KPaaS XE is looking to the hardware key that is capable of generating the seed code.\n",
      "03:51\t So, even if you have your backup code, you probably need to find some emulator of Yubikey, so your KPaaS XE can look at the software emulator and it can generate the code for you.\n",
      "04:03\t Because if you have no such software emulator, you need to wait for your replacement key to arrive in your hand, then you can reload your seed and you are able to access the KPaaS XE again.\n",
      "04:16\t But, you know, that's a pretty much inconvenient situation. So, if you are using your key to access your KPaaS archive, I strongly suggest you to have at least two keys.\n",
      "04:28\t Well, for SSH, the situation is simple. SSH keys are generated inside your Yubikey if you use the SK option, the more secure option, and you cannot extract from the key.\n",
      "04:40\t So, if you have two keys, you need to generate two different SSH keys and you need to copy both public keys to all the machines you want to access remotely with SSH.\n",
      "04:51\t So, if you have only one key, the simple situation is just generate another SSH key with a standard RSA algorithm.\n",
      "05:00\t So, you can use your Yubikey for a fast and convenient access. If your Yubikey gets lost, you can access SSH with the old standard plain RSA key stored in a file.\n",
      "05:13\t You can also use an elliptic curve key basehead, not stored in your key because you can use any elliptic curve SSH key stored inside your computer.\n",
      "05:28\t But I usually suggest an RSA key in this scenario because if you have a remote machine that is updated, you will only use your key, your SSH in your Yubikey, and you will use the RSA key only in the situation of an emergency.\n",
      "05:45\t But you can also use your RSA key in older machines that does not support the new format. So, it is better not only for backup, but even for retro-compability to have an SSH key that is based on the old RSA algorithm for maximum compatibility.\n",
      "06:03\t And for older FIDO2 or PASKEY, it's when you use your key for accessing a service like Google account, Microsoft account, where you only need the key and the PIN to access that account.\n",
      "06:16\t In that situation, you usually have other meters to log in. So, as an example, in Microsoft and Google account, you can register PASKEY, but you also can access with your standard username and password plus two-factor authentication.\n",
      "06:30\t That can be a code that is generated by your authenticator application, or you can ask to authenticate with another device, an Android device.\n",
      "06:42\t So, all these sites allow to record PASKEY and PASKEY are not only hardware PASKEY like your Yubikey, but you can also use other stuff like Microsoft as Microsoft Authenticator app for accessing Microsoft account.\n",
      "06:56\t So, usually you can only have one key, and if your key gets lost, you need to access with username and password or alternate PASKEY.\n",
      "07:04\t And clearly, if you enable some advanced protection like the Google advanced protection, where you can access only if you have your hardware key,\n",
      "07:14\t yeah, Google force you to have at least two keys because in that situation, if you lost your single key, or if you lost both the key, if you record both the key,\n",
      "07:26\t you need to go into a lengthy process of recovering your account because you need to call Google support, you need to certify that you are indeed who you claim you are.\n",
      "07:35\t And so, in that situation, it's absolutely fundamental that you have two or maybe better three keys with one of the keys stored inside a safe or where you are not gonna lose it in any way,\n",
      "07:50\t because if you lose both your keys, you have a problem. But if you have only one key, you can use conveniently to access your account and having other PASKEY or other method of login, so there's usually no problem.\n",
      "08:01\t You can have only one key.\n",
      "08:02\t And finally, for PGP or GPG, the situation is a little bit more complicated. And you have an option, you can find the link below,\n",
      "08:13\t you can have option to generate the key outside your physical key on your computer and load into your key. So you have an offline version of your key that you can use.\n",
      "08:23\t So in case you lost your key, you can simply continue to use your software key that is inside your computer. And when you buy your new replacement key, you can load the key again.\n",
      "08:34\t But for maximum security, I like my PGP key to be generated inside my YubiKey and not having any way to extract from it. It's the most secure option.\n",
      "08:44\t But in that situation, if you lose the key, you cannot use that key anymore.\n",
      "08:49\t In that situation, we need to disambiguate a couple of different scenario in which you are using PGP.\n",
      "08:57\t The first one is sign in. It's certifying that you are who you claim you are. For example, you can sign a Git commit.\n",
      "09:05\t So the Git commit got a digital sign that certified that you are the author of that commit.\n",
      "09:09\t In that situation, if you lost the key, you simply buy another key, generate another PGP key, and you just publish your new public key.\n",
      "09:20\t And it's just saying, hey, until this time I had this public key. Now I got rid of my private key because it's expired or I lost my YubiKey.\n",
      "09:31\t So you can publish another public key and tell to everyone, this is my new public key. So there is no problem.\n",
      "09:39\t All the old documents or commit you signed with your old key still remain valid. You are not able to sign anymore anything with the old private key,\n",
      "09:48\t but you just generate a new private key and you publish a new public key that is your new identity. So no problem.\n",
      "09:54\t If you are using your PGP or GPG key for encrypting things, there's a whole different scenario because if the key is inside your YubiKey and you lost the key, you have a problem.\n",
      "10:07\t You cannot decrypt any more old content. So in that scenario, it is imperative that even if you have more YubiKeys in your hand,\n",
      "10:15\t you generate the PGP keys outside your physical key and then load the same keys into multiple physical keys so you are able to decrypt again the content that you encrypted.\n",
      "10:30\t Pay attention, do not ever encrypt for a long term anything with your public key if you do not have a backup of your private key and PGP because if you lost your physical key, you cannot decrypt anything.\n",
      "10:49\t You cannot decrypt anything. So that's the kind of scenario where you want to generate your PGP offline and then load into YubiKey in a second time.\n",
      "10:57\t And even I showed you that you can live with only one key, I strongly suggest that if you are going to use YubiKey, I suggest to have more keys.\n",
      "11:10\t I have several keys. I have a couple of keys always in my keychain. I have one spare key that is stored inside my office. I have another key always attached to my workstation.\n",
      "11:21\t And all the keys are interchangeable. I can use all of them to access all of my imported accounts. So even in the situation in which I lose my keychain, I have a less other two keys.\n",
      "11:35\t One is on my fixed computer and the other is a spare key that I can put on a new keychain again so I can have always with myself.\n",
      "11:43\t So even if you can live with one key, I strongly suggest you to have at least a couple of keys. Better three.\n",
      "11:52\t Two are operative and the other is stored safely somewhere. So you have the maximum protection. You can enable Google Maximum Protection, Google Advanced Protection, and you can always have maximum security with the certification.\n",
      "12:09\t You are secure that you are not going to be cut off from your account because you lose a key because you have at least three keys.\n",
      "12:18\t And this concludes this video. I hope you enjoyed it and see you in the next one. Bye bye.\n",
      "\n"
     ]
    },
    {
     "name": "stdout",
     "output_type": "stream",
     "text": [
      "extracted 69 audio segments\n"
     ]
    }
   ],
   "source": [
    "# Now we can use the skill\n",
    "# Run the Sqrt function with the context.\n",
    "result = await kernel.run_async(\n",
    "    extractaudio_plugin[\"ExtractAudio\"],\n",
    "    extractaudio_plugin[\"TranscriptTimeline\"],\n",
    "    publishing_plugin[\"VideoTimelineCreator\"],\n",
    "    input_str=\"C:\\\\temp\\\\100-debug.mp4\"\n",
    ")\n"
   ]
  },
  {
   "cell_type": "code",
   "execution_count": 8,
   "metadata": {},
   "outputs": [
    {
     "name": "stdout",
     "output_type": "stream",
     "text": [
      "00:00 - Introduction to Yubikey and Single Key Usage\n",
      "01:10 - Evaluating the Risks of Using One Yubikey\n",
      "01:46 - Yubikey Functionalities and Backup Strategies\n",
      "04:28 - Managing SSH Keys with Yubikey\n",
      "06:03 - Using Yubikey with FIDO2 or Passwordless Services\n",
      "08:02 - Handling PGP/GPG Keys with Yubikey\n",
      "11:10 - Personal Experience and Recommendations for Yubikey Management\n",
      "12:18 - Conclusion and Farewell\n"
     ]
    }
   ],
   "source": [
    "print(result)"
   ]
  }
 ],
 "metadata": {
  "kernelspec": {
   "display_name": "skernel",
   "language": "python",
   "name": "python3"
  },
  "language_info": {
   "codemirror_mode": {
    "name": "ipython",
    "version": 3
   },
   "file_extension": ".py",
   "mimetype": "text/x-python",
   "name": "python",
   "nbconvert_exporter": "python",
   "pygments_lexer": "ipython3",
   "version": "3.10.9"
  }
 },
 "nbformat": 4,
 "nbformat_minor": 2
}
