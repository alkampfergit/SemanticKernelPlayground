{
 "cells": [
  {
   "cell_type": "code",
   "execution_count": 1,
   "metadata": {},
   "outputs": [
    {
     "name": "stdout",
     "output_type": "stream",
     "text": [
      "https://alkopenai2.openai.azure.com/\n"
     ]
    }
   ],
   "source": [
    "import semantic_kernel as sk\n",
    "import os\n",
    "from dotenv import load_dotenv, find_dotenv\n",
    "\n",
    "_ = load_dotenv(find_dotenv()) # read local .env file\n",
    "print(os.getenv(\"OPENAI_API_BASE\"))\n"
   ]
  },
  {
   "cell_type": "code",
   "execution_count": 2,
   "metadata": {},
   "outputs": [
    {
     "data": {
      "text/plain": [
       "<semantic_kernel.kernel.Kernel at 0x10b8348d0>"
      ]
     },
     "execution_count": 2,
     "metadata": {},
     "output_type": "execute_result"
    }
   ],
   "source": [
    "\n",
    "from semantic_kernel.connectors.ai.open_ai import (\n",
    "    AzureChatCompletion,\n",
    "    AzureTextCompletion,\n",
    ")\n",
    "\n",
    "kernel = sk.Kernel(log=sk.NullLogger())\n",
    "kernel.add_chat_service(\n",
    "    \"chat_completion\",\n",
    "    AzureChatCompletion(\n",
    "        \"GPT42\",\n",
    "        os.getenv(\"OPENAI_API_BASE\"),\n",
    "        os.getenv(\"OPENAI_API_KEY\")\n",
    "    ),\n",
    ")"
   ]
  },
  {
   "cell_type": "code",
   "execution_count": 4,
   "metadata": {},
   "outputs": [],
   "source": [
    "# Now we need to import the plugin\n",
    "from plugins.AudioVideoPlugin.AudioVideo import AudioVideo\n",
    "\n",
    "# Now you can import the plugin importing skill directly from the function you declared\n",
    "# in the plugin directory. The import_skill does not need the path, it only need an\n",
    "# instance of the skill and the name of the skill\n",
    "extractaudio_plugin = kernel.import_skill(AudioVideo(), skill_name=\"AudioVideoPlugin\")\n",
    "\n",
    "plugins_directory = \"./plugins\"\n",
    "\n",
    "# Import the OrchestratorPlugin from the plugins directory.\n",
    "publishing_plugin = kernel.import_semantic_skill_from_directory(\n",
    "    plugins_directory, \"PublishingPlugin\"\n",
    ")\n"
   ]
  },
  {
   "cell_type": "code",
   "execution_count": 5,
   "metadata": {},
   "outputs": [
    {
     "name": "stdout",
     "output_type": "stream",
     "text": [
      "<semantic_kernel.orchestration.sk_function.SKFunction object at 0x15008a550>\n",
      "<semantic_kernel.orchestration.sk_function.SKFunction object at 0x153209790>\n"
     ]
    }
   ],
   "source": [
    "from pprint import pprint\n",
    "# want to print all the keys of extractaudio_plugin that is a dictionary\n",
    "\n",
    "pprint (extractaudio_plugin[\"ExtractAudio\"])\n",
    "pprint (extractaudio_plugin[\"TranscriptTimeline\"])\n",
    "pprint(publishing_plugin[\"VideoTimelineCreator\"])"
   ]
  },
  {
   "cell_type": "code",
   "execution_count": 6,
   "metadata": {},
   "outputs": [
    {
     "name": "stderr",
     "output_type": "stream",
     "text": [
      "/Users/gianmariaricci/develop/github/SemanticKernelPlayground/skernel/lib/python3.11/site-packages/whisper/transcribe.py:115: UserWarning: FP16 is not supported on CPU; using FP32 instead\n",
      "  warnings.warn(\"FP16 is not supported on CPU; using FP32 instead\")\n"
     ]
    },
    {
     "name": "stdout",
     "output_type": "stream",
     "text": [
      "0\t9\t Hi and welcome again to a new video about Ubiki in which I deal with a question I got quite often\n",
      "9\t18\t and the question is why I cannot use advanced shared features like SSHK stored in my Ubiki\n",
      "18\t22\t when I work in Windows it seems not supported so what is the problem?\n",
      "22\t29\t This problem usually does not happen in Linux because Linux notively has support for SSH\n",
      "29\t36\t so when you update your Linux machine usually you will receive the latest version of the open SSH protocol\n",
      "36\t40\t that supports Ubiki and you have no problem.\n",
      "40\t45\t In Windows the situation is little different let me show you why.\n",
      "45\t51\t In the vast majority of situations the problem is not having the latest version of SSH\n",
      "51\t59\t and to verify this open a Windows terminal and type SSH, sorry SSH-capital day.\n",
      "59\t66\t And if you did not ever install or upgrade SSH this is the answer.\n",
      "66\t75\t The answer is open SSH for Windows 8.6 and this is indeed too old to support your Ubiki.\n",
      "75\t83\t Now the usual follow-up question is I keep my Windows update, I install all the operating system update.\n",
      "83\t92\t It isn't the open SSH part of the operating system so it's supposed to be update with the standard Windows update program.\n",
      "92\t95\t The answer sadly is no.\n",
      "95\t104\t If you go on the GitHub repository of PowerShell Win 32 open SSH you can already see that the releases\n",
      "104\t113\t shows you that the latest version is indeed the 9.4 and it is really really much more recent than the 8.6.\n",
      "113\t122\t So why it is not automatically updated and the answer is because Microsoft changed it how it supports SSH.\n",
      "122\t131\t So you now need to install the open SSH package separately as another as you install other software in Windows.\n",
      "131\t138\t It's really supported by Microsoft but it's not part of the standard update cycle of the operating system.\n",
      "138\t141\t Luckily this solution is really really simple.\n",
      "141\t151\t You just open the terminal and you can use Wingat, new Windows package manager to find the package that contained the latest version.\n",
      "151\t164\t You can search open SSH and look at the supported, sorry, it's the Wingat search open SSH and it will tell you that there is open SSH beta Microsoft open SSH.beta.\n",
      "164\t172\t And even if it's a beta version it's fully supported and it works perfectly and it should be the version that you're going to install.\n",
      "172\t180\t So you can simply Wingat install Microsoft open SSH and letting Wingat, sorry, beta.\n",
      "180\t184\t And letting Wingat install everything for you.\n",
      "184\t195\t So you just wait a little bit for the package to be installed and then you will verify if the new version of SSH is indeed installed.\n",
      "195\t213\t If you type SSH-capital v again to verify the version you can verify that now you have not anymore the 8.6 version but you now have the Windows 9.4 version that is updated and it fully supports your ubiquity.\n",
      "213\t224\t So before starting using SSH functionalities on Windows please just be sure you updated the SSH protocol, the open SSH protocol to the latest version.\n",
      "224\t232\t And thanks to Wingat it is just a one line install instruction.\n",
      "232\t240\t And this concludes this video. I hope you enjoyed it and I'm waiting you for the next one in the ubiquity series.\n",
      "\n"
     ]
    }
   ],
   "source": [
    "# Now we can use the skill\n",
    "# Run the Sqrt function with the context.\n",
    "result = await kernel.run_async(\n",
    "    extractaudio_plugin[\"ExtractAudio\"],\n",
    "    extractaudio_plugin[\"TranscriptTimeline\"],\n",
    "    input_str=\"/Users/gianmariaricci/develop/montaggi/UpdatingSSH.mp4\",\n",
    ")\n",
    "\n",
    "print(result)"
   ]
  }
 ],
 "metadata": {
  "kernelspec": {
   "display_name": "skernel",
   "language": "python",
   "name": "python3"
  },
  "language_info": {
   "codemirror_mode": {
    "name": "ipython",
    "version": 3
   },
   "file_extension": ".py",
   "mimetype": "text/x-python",
   "name": "python",
   "nbconvert_exporter": "python",
   "pygments_lexer": "ipython3",
   "version": "3.11.6"
  }
 },
 "nbformat": 4,
 "nbformat_minor": 2
}
