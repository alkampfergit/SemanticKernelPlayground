{
 "cells": [
  {
   "cell_type": "code",
   "execution_count": 1,
   "metadata": {},
   "outputs": [
    {
     "name": "stdout",
     "output_type": "stream",
     "text": [
      "https://alkopenai2.openai.azure.com/\n"
     ]
    }
   ],
   "source": [
    "import semantic_kernel as sk\n",
    "import os\n",
    "from dotenv import load_dotenv, find_dotenv\n",
    "\n",
    "_ = load_dotenv(find_dotenv()) # read local .env file\n",
    "print(os.getenv(\"OPENAI_API_BASE\"))\n"
   ]
  },
  {
   "cell_type": "code",
   "execution_count": 2,
   "metadata": {},
   "outputs": [],
   "source": [
    "# for this example I want a valid logger\n",
    "import logging\n",
    "\n",
    "# Create a logger\n",
    "logger = logging.getLogger(\"SK\")\n",
    "\n",
    "# Set the logging level to INFO\n",
    "logger.setLevel(logging.DEBUG)\n",
    "\n",
    "# Create a console handler\n",
    "console_handler = logging.StreamHandler()\n",
    "\n",
    "# Set the level of the console handler to INFO\n",
    "console_handler.setLevel(logging.DEBUG)\n",
    "\n",
    "# Create a formatter\n",
    "formatter = logging.Formatter('%(asctime)s - %(name)s - %(levelname)s - %(message)s')\n",
    "\n",
    "# Set the formatter for the console handler\n",
    "console_handler.setFormatter(formatter)\n",
    "\n",
    "# Add the console handler to the logger\n",
    "logger.addHandler(console_handler)\n"
   ]
  },
  {
   "cell_type": "code",
   "execution_count": 3,
   "metadata": {},
   "outputs": [
    {
     "data": {
      "text/plain": [
       "<semantic_kernel.kernel.Kernel at 0x1ab63293d60>"
      ]
     },
     "execution_count": 3,
     "metadata": {},
     "output_type": "execute_result"
    }
   ],
   "source": [
    "from semantic_kernel.connectors.ai.open_ai import (\n",
    "    AzureChatCompletion,\n",
    "    AzureTextCompletion,\n",
    ")\n",
    "\n",
    "kernel = sk.Kernel(log=logger)\n",
    "kernel.add_chat_service(\n",
    "    \"chat_completion\",\n",
    "    AzureChatCompletion(\n",
    "        \"GPT42\",\n",
    "        os.getenv(\"OPENAI_API_BASE\"),\n",
    "        os.getenv(\"OPENAI_API_KEY\")\n",
    "    ),\n",
    ")"
   ]
  },
  {
   "cell_type": "code",
   "execution_count": 4,
   "metadata": {},
   "outputs": [
    {
     "name": "stderr",
     "output_type": "stream",
     "text": [
      "2023-12-03 08:51:19,831 - SK - DEBUG - Importing skill AudioVideoPlugin\n",
      "2023-12-03 08:51:19,832 - SK - DEBUG - Methods imported: 2\n",
      "2023-12-03 08:51:19,833 - SK - DEBUG - Extracting blocks from template: I will give you a transcript of a video. The transcript contains phrases prefixed by the timestamp where the phrase starts. I want you to identify between three and ten main sections of the video. For each section you will create a brief title prefixed with the start timestamp of the section, obtained by the first phrase of the section. \n",
      "\n",
      "EXAMPLE ANSWER\n",
      "00:00 - Title 1\n",
      "00:33 - Title 2\n",
      "01:23 - Title 3\n",
      "\n",
      "[DATA]\n",
      "{{$input}}\n"
     ]
    }
   ],
   "source": [
    "# Now we need to import the plugin\n",
    "from plugins.AudioVideoPlugin.AudioVideo import AudioVideo\n",
    "\n",
    "# Now you can import the plugin importing skill directly from the function you declared\n",
    "# in the plugin directory. The import_skill does not need the path, it only need an\n",
    "# instance of the skill and the name of the skill\n",
    "extractaudio_plugin = kernel.import_skill(AudioVideo(), skill_name=\"AudioVideoPlugin\")\n",
    "\n",
    "plugins_directory = \"./plugins\"\n",
    "\n",
    "# Import the OrchestratorPlugin from the plugins directory.\n",
    "publishing_plugin = kernel.import_semantic_skill_from_directory(\n",
    "    plugins_directory, \"PublishingPlugin\"\n",
    ")\n"
   ]
  },
  {
   "cell_type": "code",
   "execution_count": 5,
   "metadata": {},
   "outputs": [
    {
     "name": "stdout",
     "output_type": "stream",
     "text": [
      "<semantic_kernel.orchestration.sk_function.SKFunction object at 0x000001AB63293B50>\n",
      "<semantic_kernel.orchestration.sk_function.SKFunction object at 0x000001AB6F302F50>\n",
      "<semantic_kernel.orchestration.sk_function.SKFunction object at 0x000001AB6F3023E0>\n"
     ]
    }
   ],
   "source": [
    "from pprint import pprint\n",
    "# want to print all the keys of extractaudio_plugin that is a dictionary\n",
    "\n",
    "pprint (extractaudio_plugin[\"ExtractAudio\"])\n",
    "pprint (extractaudio_plugin[\"TranscriptTimeline\"])\n",
    "pprint (publishing_plugin[\"VideoTimelineCreator\"])"
   ]
  },
  {
   "cell_type": "code",
   "execution_count": 6,
   "metadata": {},
   "outputs": [
    {
     "data": {
      "text/plain": [
       "True"
      ]
     },
     "execution_count": 6,
     "metadata": {},
     "output_type": "execute_result"
    }
   ],
   "source": [
    "# you can verify if cuda is available.\n",
    "import torch\n",
    "torch.cuda.is_available()"
   ]
  },
  {
   "cell_type": "code",
   "execution_count": 7,
   "metadata": {},
   "outputs": [
    {
     "name": "stdout",
     "output_type": "stream",
     "text": [
      "Extracting auio file from video C:\\temp\\ssh.mp4\n",
      "Extracting transcript from audio file C:\\temp\\ssh.wav\n",
      "Using device: cuda:0 to run whisper\n"
     ]
    },
    {
     "name": "stderr",
     "output_type": "stream",
     "text": [
      "2023-12-03 08:52:12,926 - SK - DEBUG - Rendering string template: I will give you a transcript of a video. The transcript contains phrases prefixed by the timestamp where the phrase starts. I want you to identify between three and ten main sections of the video. For each section you will create a brief title prefixed with the start timestamp of the section, obtained by the first phrase of the section. \n",
      "\n",
      "EXAMPLE ANSWER\n",
      "00:00 - Title 1\n",
      "00:33 - Title 2\n",
      "01:23 - Title 3\n",
      "\n",
      "[DATA]\n",
      "{{$input}}\n",
      "2023-12-03 08:52:12,927 - SK - DEBUG - Extracting blocks from template: I will give you a transcript of a video. The transcript contains phrases prefixed by the timestamp where the phrase starts. I want you to identify between three and ten main sections of the video. For each section you will create a brief title prefixed with the start timestamp of the section, obtained by the first phrase of the section. \n",
      "\n",
      "EXAMPLE ANSWER\n",
      "00:00 - Title 1\n",
      "00:33 - Title 2\n",
      "01:23 - Title 3\n",
      "\n",
      "[DATA]\n",
      "{{$input}}\n",
      "2023-12-03 08:52:12,977 - SK - DEBUG - Rendering list of 2 blocks\n",
      "2023-12-03 08:52:12,978 - SK - DEBUG - Rendered prompt: I will give you a transcript of a video. The transcript contains phrases prefixed by the timestamp where the phrase starts. I want you to identify between three and ten main sections of the video. For each section you will create a brief title prefixed with the start timestamp of the section, obtained by the first phrase of the section. \n",
      "\n",
      "EXAMPLE ANSWER\n",
      "00:00 - Title 1\n",
      "00:33 - Title 2\n",
      "01:23 - Title 3\n",
      "\n",
      "[DATA]\n",
      "00:00\t Hi and welcome again to a new video about Yubikey, in which I deal with a question I\n",
      "00:07\t got quite often, and the question is why I cannot use advanced shared features like SSH\n",
      "00:16\t key stored in my Yubikey when I work in Windows.\n",
      "00:19\t It seems not supported.\n",
      "00:20\t So what is the problem?\n",
      "00:22\t This problem usually does not happen in Linux because Linux not evenly has support for SSH.\n",
      "00:28\t So when you update your Linux machine, usually you will receive the latest version of the\n",
      "00:34\t open SSH protocol that supports Yubikey and you have no problem.\n",
      "00:39\t In Windows, the situation is a little different.\n",
      "00:43\t Let me show you why.\n",
      "00:45\t In the vast majority of situations, the problem is not having the latest version of SSH.\n",
      "00:51\t And to verify this, open a Windows terminal and type SSH-B.\n",
      "00:59\t And if you did not ever install or upgrade SSH, this is the answer.\n",
      "01:06\t The answer is open SSH for Windows 8.6 and this is indeed too old to support your Yubikey.\n",
      "01:15\t Now the usual follow-up question is, I keep my Windows up to date.\n",
      "01:20\t I install all the operating system updates.\n",
      "01:22\t Isn't it the open SSH part of the operating system?\n",
      "01:26\t So it's supposed to be updated with the standard Windows update program.\n",
      "01:32\t The answer sadly is no.\n",
      "01:35\t If you go on the GitHub repository of PowerShell Win32 open SSH, you can really see that the\n",
      "01:42\t releases shows you that the latest version is indeed the 9.4 and it is really, really\n",
      "01:49\t much more recent than the 8.6.\n",
      "01:52\t So why it is not automatically updated?\n",
      "01:57\t And the answer is because Microsoft changed how it supports SSH.\n",
      "02:02\t So you now need to install the open SSH package separately as you install other software in\n",
      "02:09\t Windows.\n",
      "02:10\t It's really supported by Microsoft, but it's not part of the standard update cycle of the\n",
      "02:16\t operating system.\n",
      "02:18\t Luckily, the solution is really, really simple.\n",
      "02:21\t You just open the terminal and you can use Wingette, your Windows package manager, to\n",
      "02:27\t find the package that contains the latest version.\n",
      "02:30\t So you can search open SSH and look at the supported, sorry, it's the Wingette search,\n",
      "02:38\t open SSH, and it will tell you that there is open SSH beta Microsoft open SSH dot beta.\n",
      "02:44\t And even if it's a beta version, it's fully supported and it works perfectly and it should\n",
      "02:49\t be the version that you're going to install.\n",
      "02:52\t You can simply Wingette install Microsoft open SSH and letting Windows, oh sorry, beta,\n",
      "03:01\t and letting Wingette install everything for you.\n",
      "03:04\t So you just wait a little bit for the package to be installed and then you will verify if\n",
      "03:10\t the new version of SSH is indeed installed.\n",
      "03:15\t If you type SSH dash capital V again to verify the version, you can verify that now you have\n",
      "03:24\t not anymore the 8.6 version, but you now have the Windows 9.4 version that is updated and\n",
      "03:31\t it fully supports your YubiKey.\n",
      "03:33\t So before starting using SSH functionalities on Windows, please just be sure you updated\n",
      "03:41\t the SSH protocol, the open SSH protocol, to the latest version and thanks to Wingette,\n",
      "03:48\t it is just a one-line install instruction.\n",
      "03:53\t And this concludes this video.\n",
      "03:55\t I hope you enjoyed it and I'm waiting for the next one in the YubiKey series.\n",
      "\n"
     ]
    },
    {
     "name": "stdout",
     "output_type": "stream",
     "text": [
      "extracted 47 audio segments\n"
     ]
    }
   ],
   "source": [
    "# Now we can use the skill\n",
    "# Run the Sqrt function with the context.\n",
    "result = await kernel.run_async(\n",
    "    extractaudio_plugin[\"ExtractAudio\"],\n",
    "    extractaudio_plugin[\"TranscriptTimeline\"],\n",
    "    publishing_plugin[\"VideoTimelineCreator\"],\n",
    "    input_str=\"C:\\\\temp\\\\ssh.mp4\",\n",
    ")\n"
   ]
  },
  {
   "cell_type": "code",
   "execution_count": 8,
   "metadata": {},
   "outputs": [
    {
     "name": "stdout",
     "output_type": "stream",
     "text": [
      "00:00 - Introduction to Yubikey and SSH Key Issue on Windows\n",
      "00:39 - Explanation of SSH Version Problem on Windows\n",
      "01:15 - Questioning the SSH Update Process on Windows\n",
      "01:35 - Understanding the SSH Version Discrepancy on GitHub\n",
      "01:57 - Explanation of Microsoft's Change in SSH Support\n",
      "02:18 - Solution to Update SSH Version on Windows\n",
      "03:33 - Final Reminder and Conclusion of the Video\n"
     ]
    }
   ],
   "source": [
    "\n",
    "print(result)"
   ]
  }
 ],
 "metadata": {
  "kernelspec": {
   "display_name": "skernel",
   "language": "python",
   "name": "python3"
  },
  "language_info": {
   "codemirror_mode": {
    "name": "ipython",
    "version": 3
   },
   "file_extension": ".py",
   "mimetype": "text/x-python",
   "name": "python",
   "nbconvert_exporter": "python",
   "pygments_lexer": "ipython3",
   "version": "3.10.9"
  }
 },
 "nbformat": 4,
 "nbformat_minor": 2
}
